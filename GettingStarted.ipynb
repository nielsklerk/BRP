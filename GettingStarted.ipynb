{
 "cells": [
  {
   "cell_type": "code",
   "id": "89aca190",
   "metadata": {},
   "source": [
    "# Let's use the entire available screen width for the notebook\n",
    "from IPython.display import display, HTML\n",
    "display(HTML(\"<style>.container { width:95% !important; }</style>\"))"
   ],
   "outputs": [],
   "execution_count": null
  },
  {
   "cell_type": "markdown",
   "id": "c0a12974",
   "metadata": {},
   "source": [
    "### First lets install prodimopy"
   ]
  },
  {
   "cell_type": "markdown",
   "id": "56518ac5",
   "metadata": {},
   "source": [
    "The simplest way to install prodimopy is by running <code>pip install prodimopy</code><br>\n",
    "But this installs the stable release. It is highly recommended that you install the the latest developmental version directly from GitLab.<br>\n",
    "Instructions for installation via GitLab:<br>\n",
    "<code>git clone https://gitlab.astro.rug.nl/prodimo/prodimopy.git\n",
    "pip install --user -e .\n",
    "</code>\n",
    "For updating to the latest version via GitLab, use:\n",
    "<code>git pull</code>\n",
    "\n",
    "\n",
    "More details about prodimopy installation can be found on the <a href=\"https://gitlab.astro.rug.nl/prodimo/prodimopy\">GitLab page</a>."
   ]
  },
  {
   "cell_type": "markdown",
   "id": "696ad498",
   "metadata": {},
   "source": [
    "To get an idea of what <a href='https://prodimo.iwf.oeaw.ac.at'>ProDiMo</a> is, how it works, and how to use prodimopy (examples), it would be a good idea to check out the videos on the ProDiMo website under '<a href='https://prodimo.iwf.oeaw.ac.at/description/code-instructions'>Code instructions</a>'"
   ]
  },
  {
   "cell_type": "markdown",
   "id": "ac26aa86",
   "metadata": {},
   "source": [
    "-----------------"
   ]
  },
  {
   "cell_type": "markdown",
   "id": "678087fa",
   "metadata": {},
   "source": [
    "## Download an example model from the grid"
   ]
  },
  {
   "cell_type": "markdown",
   "id": "8d40f091",
   "metadata": {},
   "source": [
    "I will be uploading all the grids to <a href='https://www.astro.rug.nl/~arabhavi/grid1/'>this page</a>. For now you can download one file: <code>C_0.0_O_0.0_CO_0.45.tar.gz</code><br>\n",
    "Credentials (do not share with anyone):<br>\n",
    "Username: niels<br>\n",
    "Password: grid1brp"
   ]
  },
  {
   "cell_type": "markdown",
   "id": "66c85ede",
   "metadata": {},
   "source": [
    "Once the download is complete, extract the contents of the tarball into a directory (or simply run the following cell)"
   ]
  },
  {
   "cell_type": "code",
   "id": "dcf0ce1f",
   "metadata": {},
   "source": [
    "%%bash\n",
    "mkdir sample_model\n",
    "wget -nv --user=niels --password=grid1brp https://www.astro.rug.nl/~arabhavi/grid1/C_0.0_O_0.0_CO_0.45.tar.gz\n",
    "tar -xf C_0.0_O_0.0_CO_0.45.tar.gz -C sample_model/.\n",
    "rm C_0.0_O_0.0_CO_0.45.tar.gz"
   ],
   "outputs": [],
   "execution_count": null
  },
  {
   "cell_type": "markdown",
   "id": "f320949a",
   "metadata": {},
   "source": [
    "-----------\n",
    "# Imports and initialization"
   ]
  },
  {
   "cell_type": "code",
   "id": "fc21347f",
   "metadata": {
    "ExecuteTime": {
     "end_time": "2025-03-04T21:23:11.901925Z",
     "start_time": "2025-03-04T21:23:07.264054Z"
    }
   },
   "source": [
    "import prodimopy.read as pread\n",
    "import prodimopy.plot as pplot\n",
    "import numpy as np\n",
    "import matplotlib as mpl\n",
    "import matplotlib.pyplot as plt\n",
    "from scipy.constants import h as planck_h\n",
    "from scipy.constants import k as boltzmann_k\n",
    "from scipy.constants import c as speed_of_light\n",
    "from scipy.constants import astronomical_unit as au\n",
    "from scipy.constants import parsec as pc\n",
    "%matplotlib notebook\n",
    "from os.path import join"
   ],
   "outputs": [
    {
     "ename": "ModuleNotFoundError",
     "evalue": "No module named 'matplotlib.backends.registry'",
     "output_type": "error",
     "traceback": [
      "\u001B[1;31m---------------------------------------------------------------------------\u001B[0m",
      "\u001B[1;31mModuleNotFoundError\u001B[0m                       Traceback (most recent call last)",
      "Cell \u001B[1;32mIn[1], line 2\u001B[0m\n\u001B[0;32m      1\u001B[0m \u001B[38;5;28;01mimport\u001B[39;00m\u001B[38;5;250m \u001B[39m\u001B[38;5;21;01mprodimopy\u001B[39;00m\u001B[38;5;21;01m.\u001B[39;00m\u001B[38;5;21;01mread\u001B[39;00m\u001B[38;5;250m \u001B[39m\u001B[38;5;28;01mas\u001B[39;00m\u001B[38;5;250m \u001B[39m\u001B[38;5;21;01mpread\u001B[39;00m\n\u001B[1;32m----> 2\u001B[0m \u001B[38;5;28;01mimport\u001B[39;00m\u001B[38;5;250m \u001B[39m\u001B[38;5;21;01mprodimopy\u001B[39;00m\u001B[38;5;21;01m.\u001B[39;00m\u001B[38;5;21;01mplot\u001B[39;00m\u001B[38;5;250m \u001B[39m\u001B[38;5;28;01mas\u001B[39;00m\u001B[38;5;250m \u001B[39m\u001B[38;5;21;01mpplot\u001B[39;00m\n\u001B[0;32m      3\u001B[0m \u001B[38;5;28;01mimport\u001B[39;00m\u001B[38;5;250m \u001B[39m\u001B[38;5;21;01mnumpy\u001B[39;00m\u001B[38;5;250m \u001B[39m\u001B[38;5;28;01mas\u001B[39;00m\u001B[38;5;250m \u001B[39m\u001B[38;5;21;01mnp\u001B[39;00m\n\u001B[0;32m      4\u001B[0m \u001B[38;5;28;01mimport\u001B[39;00m\u001B[38;5;250m \u001B[39m\u001B[38;5;21;01mmatplotlib\u001B[39;00m\u001B[38;5;250m \u001B[39m\u001B[38;5;28;01mas\u001B[39;00m\u001B[38;5;250m \u001B[39m\u001B[38;5;21;01mmpl\u001B[39;00m\n",
      "File \u001B[1;32m~\\OneDrive\\Documenten\\BRP\\.venv\\Lib\\site-packages\\prodimopy\\plot.py:9\u001B[0m\n\u001B[0;32m      6\u001B[0m \u001B[38;5;28;01mimport\u001B[39;00m\u001B[38;5;250m \u001B[39m\u001B[38;5;21;01mmath\u001B[39;00m\n\u001B[0;32m      7\u001B[0m \u001B[38;5;28;01mimport\u001B[39;00m\u001B[38;5;250m \u001B[39m\u001B[38;5;21;01mos\u001B[39;00m\u001B[38;5;21;01m.\u001B[39;00m\u001B[38;5;21;01mpath\u001B[39;00m\n\u001B[1;32m----> 9\u001B[0m \u001B[38;5;28;01mfrom\u001B[39;00m\u001B[38;5;250m \u001B[39m\u001B[38;5;21;01mmatplotlib\u001B[39;00m\u001B[38;5;21;01m.\u001B[39;00m\u001B[38;5;21;01mticker\u001B[39;00m\u001B[38;5;250m \u001B[39m\u001B[38;5;28;01mimport\u001B[39;00m MaxNLocator\n\u001B[0;32m     10\u001B[0m \u001B[38;5;28;01mfrom\u001B[39;00m\u001B[38;5;250m \u001B[39m\u001B[38;5;21;01mscipy\u001B[39;00m\u001B[38;5;21;01m.\u001B[39;00m\u001B[38;5;21;01minterpolate\u001B[39;00m\u001B[38;5;250m \u001B[39m\u001B[38;5;28;01mimport\u001B[39;00m interp1d\n\u001B[0;32m     12\u001B[0m \u001B[38;5;28;01mimport\u001B[39;00m\u001B[38;5;250m \u001B[39m\u001B[38;5;21;01mastropy\u001B[39;00m\u001B[38;5;21;01m.\u001B[39;00m\u001B[38;5;21;01munits\u001B[39;00m\u001B[38;5;250m \u001B[39m\u001B[38;5;28;01mas\u001B[39;00m\u001B[38;5;250m \u001B[39m\u001B[38;5;21;01mu\u001B[39;00m\n",
      "File \u001B[1;32m~\\OneDrive\\Documenten\\BRP\\.venv\\Lib\\site-packages\\matplotlib\\__init__.py:161\u001B[0m\n\u001B[0;32m    157\u001B[0m \u001B[38;5;28;01mfrom\u001B[39;00m\u001B[38;5;250m \u001B[39m\u001B[38;5;21;01mpackaging\u001B[39;00m\u001B[38;5;21;01m.\u001B[39;00m\u001B[38;5;21;01mversion\u001B[39;00m\u001B[38;5;250m \u001B[39m\u001B[38;5;28;01mimport\u001B[39;00m parse \u001B[38;5;28;01mas\u001B[39;00m parse_version\n\u001B[0;32m    159\u001B[0m \u001B[38;5;66;03m# cbook must import matplotlib only within function\u001B[39;00m\n\u001B[0;32m    160\u001B[0m \u001B[38;5;66;03m# definitions, so it is safe to import from it here.\u001B[39;00m\n\u001B[1;32m--> 161\u001B[0m \u001B[38;5;28;01mfrom\u001B[39;00m\u001B[38;5;250m \u001B[39m\u001B[38;5;21;01m.\u001B[39;00m\u001B[38;5;250m \u001B[39m\u001B[38;5;28;01mimport\u001B[39;00m _api, _version, cbook, _docstring, rcsetup\n\u001B[0;32m    162\u001B[0m \u001B[38;5;28;01mfrom\u001B[39;00m\u001B[38;5;250m \u001B[39m\u001B[38;5;21;01mmatplotlib\u001B[39;00m\u001B[38;5;21;01m.\u001B[39;00m\u001B[38;5;21;01m_api\u001B[39;00m\u001B[38;5;250m \u001B[39m\u001B[38;5;28;01mimport\u001B[39;00m MatplotlibDeprecationWarning\n\u001B[0;32m    163\u001B[0m \u001B[38;5;28;01mfrom\u001B[39;00m\u001B[38;5;250m \u001B[39m\u001B[38;5;21;01mmatplotlib\u001B[39;00m\u001B[38;5;21;01m.\u001B[39;00m\u001B[38;5;21;01mrcsetup\u001B[39;00m\u001B[38;5;250m \u001B[39m\u001B[38;5;28;01mimport\u001B[39;00m cycler  \u001B[38;5;66;03m# noqa: F401\u001B[39;00m\n",
      "File \u001B[1;32m~\\OneDrive\\Documenten\\BRP\\.venv\\Lib\\site-packages\\matplotlib\\rcsetup.py:26\u001B[0m\n\u001B[0;32m     23\u001B[0m \u001B[38;5;28;01mimport\u001B[39;00m\u001B[38;5;250m \u001B[39m\u001B[38;5;21;01mnumpy\u001B[39;00m\u001B[38;5;250m \u001B[39m\u001B[38;5;28;01mas\u001B[39;00m\u001B[38;5;250m \u001B[39m\u001B[38;5;21;01mnp\u001B[39;00m\n\u001B[0;32m     25\u001B[0m \u001B[38;5;28;01mfrom\u001B[39;00m\u001B[38;5;250m \u001B[39m\u001B[38;5;21;01mmatplotlib\u001B[39;00m\u001B[38;5;250m \u001B[39m\u001B[38;5;28;01mimport\u001B[39;00m _api, cbook\n\u001B[1;32m---> 26\u001B[0m \u001B[38;5;28;01mfrom\u001B[39;00m\u001B[38;5;250m \u001B[39m\u001B[38;5;21;01mmatplotlib\u001B[39;00m\u001B[38;5;21;01m.\u001B[39;00m\u001B[38;5;21;01mbackends\u001B[39;00m\u001B[38;5;250m \u001B[39m\u001B[38;5;28;01mimport\u001B[39;00m BackendFilter, backend_registry\n\u001B[0;32m     27\u001B[0m \u001B[38;5;28;01mfrom\u001B[39;00m\u001B[38;5;250m \u001B[39m\u001B[38;5;21;01mmatplotlib\u001B[39;00m\u001B[38;5;21;01m.\u001B[39;00m\u001B[38;5;21;01mcbook\u001B[39;00m\u001B[38;5;250m \u001B[39m\u001B[38;5;28;01mimport\u001B[39;00m ls_mapper\n\u001B[0;32m     28\u001B[0m \u001B[38;5;28;01mfrom\u001B[39;00m\u001B[38;5;250m \u001B[39m\u001B[38;5;21;01mmatplotlib\u001B[39;00m\u001B[38;5;21;01m.\u001B[39;00m\u001B[38;5;21;01mcolors\u001B[39;00m\u001B[38;5;250m \u001B[39m\u001B[38;5;28;01mimport\u001B[39;00m Colormap, is_color_like\n",
      "File \u001B[1;32m~\\OneDrive\\Documenten\\BRP\\.venv\\Lib\\site-packages\\matplotlib\\backends\\__init__.py:1\u001B[0m\n\u001B[1;32m----> 1\u001B[0m \u001B[38;5;28;01mfrom\u001B[39;00m\u001B[38;5;250m \u001B[39m\u001B[38;5;21;01m.\u001B[39;00m\u001B[38;5;21;01mregistry\u001B[39;00m\u001B[38;5;250m \u001B[39m\u001B[38;5;28;01mimport\u001B[39;00m BackendFilter, backend_registry  \u001B[38;5;66;03m# noqa: F401\u001B[39;00m\n\u001B[0;32m      3\u001B[0m \u001B[38;5;66;03m# NOTE: plt.switch_backend() (called at import time) will add a \"backend\"\u001B[39;00m\n\u001B[0;32m      4\u001B[0m \u001B[38;5;66;03m# attribute here for backcompat.\u001B[39;00m\n\u001B[0;32m      5\u001B[0m _QT_FORCE_QT5_BINDING \u001B[38;5;241m=\u001B[39m \u001B[38;5;28;01mFalse\u001B[39;00m\n",
      "\u001B[1;31mModuleNotFoundError\u001B[0m: No module named 'matplotlib.backends.registry'"
     ]
    }
   ],
   "execution_count": 1
  },
  {
   "cell_type": "code",
   "id": "ef4965e0",
   "metadata": {
    "ExecuteTime": {
     "end_time": "2025-02-17T18:45:18.505667Z",
     "start_time": "2025-02-17T18:45:18.492333Z"
    }
   },
   "source": "model_path = './sample_model'",
   "outputs": [],
   "execution_count": 25
  },
  {
   "cell_type": "code",
   "id": "9a95a0b8",
   "metadata": {
    "ExecuteTime": {
     "end_time": "2025-02-17T18:45:39.075962Z",
     "start_time": "2025-02-17T18:45:20.583048Z"
    }
   },
   "source": [
    "model = pread.read_prodimo(model_path)"
   ],
   "outputs": [
    {
     "name": "stdout",
     "output_type": "stream",
     "text": [
      "READ: Reading File:  ./sample_model/ProDiMo.out  ...\n",
      "READ: Reading File:  ./sample_model/Species.out  ...\n"
     ]
    },
    {
     "name": "stderr",
     "output_type": "stream",
     "text": [
      "C:\\Users\\niels\\OneDrive\\Documenten\\BRP\\.venv\\Lib\\site-packages\\prodimopy\\read.py:2750: DeprecationWarning: `np.chararray` is deprecated and will be removed from the main namespace in the future. Use an array with a string or bytes dtype instead.\n",
      "  data._radFields_cache=np.chararray(shape=(data.nx,data.nz,data.nlam),itemsize=13)\n",
      "C:\\Users\\niels\\OneDrive\\Documenten\\BRP\\.venv\\Lib\\site-packages\\prodimopy\\read.py:2751: DeprecationWarning: `np.chararray` is deprecated and will be removed from the main namespace in the future. Use an array with a string or bytes dtype instead.\n",
      "  data._nmol_cache=np.chararray((data.nx,data.nz,data.nspec),itemsize=13)\n",
      "C:\\Users\\niels\\OneDrive\\Documenten\\BRP\\.venv\\Lib\\site-packages\\prodimopy\\read.py:2752: DeprecationWarning: `np.chararray` is deprecated and will be removed from the main namespace in the future. Use an array with a string or bytes dtype instead.\n",
      "  data._heat_cache=np.chararray((data.nx,data.nz,data.nheat),itemsize=13)\n",
      "C:\\Users\\niels\\OneDrive\\Documenten\\BRP\\.venv\\Lib\\site-packages\\prodimopy\\read.py:2753: DeprecationWarning: `np.chararray` is deprecated and will be removed from the main namespace in the future. Use an array with a string or bytes dtype instead.\n",
      "  data._cool_cache=np.chararray((data.nx,data.nz,data.ncool),itemsize=13)\n"
     ]
    },
    {
     "name": "stdout",
     "output_type": "stream",
     "text": [
      "READ: Reading File:  ./sample_model/FlineEstimates.out  ...\n",
      "READ: Reading File:  ./sample_model/Elements.out  ...\n",
      "READ: Reading File:  ./sample_model/dust_opac.out  ...\n",
      "READ: Reading File:  ./sample_model/dust_sigmaa.out  ...\n",
      "READ: Reading File:  ./sample_model/StarSpectrum.out  ...\n",
      "READ: Reading File:  ./sample_model/SED.out  ...\n",
      "READ: Reading File:  ./sample_model/SEDana.out  ...\n"
     ]
    },
    {
     "name": "stderr",
     "output_type": "stream",
     "text": [
      "C:\\Users\\niels\\OneDrive\\Documenten\\BRP\\.venv\\Lib\\site-packages\\prodimopy\\read.py:2330: DeprecationWarning: `trapz` is deprecated. Use `trapezoid` instead, or one of the numerical integration functions in `scipy.integrate`.\n",
      "  self._Lbols[self.__incidx]=np.trapz(self.fnuErg[mask],x=self.nu[mask])*-1.0\n",
      "C:\\Users\\niels\\OneDrive\\Documenten\\BRP\\.venv\\Lib\\site-packages\\prodimopy\\read.py:2336: DeprecationWarning: `trapz` is deprecated. Use `trapezoid` instead, or one of the numerical integration functions in `scipy.integrate`.\n",
      "  self._Tbols[self.__incidx]=1.25e-11*np.trapz((self.nu[mask]*self.fnuErg[mask]),x=self.nu[mask])/np.trapz(self.fnuErg[mask],x=self.nu[mask])\n"
     ]
    },
    {
     "name": "stdout",
     "output_type": "stream",
     "text": [
      "READ: Reading File:  ./sample_model/image.out  ...\n",
      "READ: Reading File:  ./sample_model/specFLiTs.out  ...\n",
      "READ: Reading File:  ./sample_model/Parameter.out  ...\n",
      "INFO: Reading time:  18.40 s\n",
      " \n"
     ]
    }
   ],
   "execution_count": 26
  },
  {
   "cell_type": "markdown",
   "id": "ebe81a86",
   "metadata": {},
   "source": [
    "---------\n",
    "# Getting familiar with the data"
   ]
  },
  {
   "cell_type": "markdown",
   "id": "81beedc4",
   "metadata": {},
   "source": [
    "prodimopy reads the model into a <code>prodimopy.read.Data_ProDiMo</code> data structure (or class).<br>\n",
    "You can access the contents of the model by the '.' method. For example, for the above model that has been read and stored in the variable name <code>model</code>, the gas and the dust temperatures can be accessed via <code>model.tg</code> and <code>model.td</code> respectively.<br>\n",
    "\n",
    "To know more about the contents you can also run <code>help(model)</code> or simply pressing tab twice after typing in a cell: <code>model.</code><br>\n",
    "\n",
    "(You do not need to remember all options, but get familiar with accessing the data when you need)\n",
    "\n",
    "\n"
   ]
  },
  {
   "cell_type": "markdown",
   "id": "e1b786fe",
   "metadata": {},
   "source": [
    "--------\n",
    "# Make some plots"
   ]
  },
  {
   "metadata": {
    "ExecuteTime": {
     "end_time": "2025-02-17T18:45:50.450831Z",
     "start_time": "2025-02-17T18:45:50.441882Z"
    }
   },
   "cell_type": "code",
   "source": "print(model.species)",
   "id": "3c973f8c878688d",
   "outputs": [
    {
     "name": "stdout",
     "output_type": "stream",
     "text": [
      "Number of species: 328\n",
      "Name             mass [g]   charge chemPot [eV]\n",
      "e-               9.11e-28    -1       0.0000\n",
      "H                1.67e-24     0       0.0000\n",
      "H+               1.67e-24     1      13.5979\n",
      "H-               1.67e-24    -1      -0.7545\n",
      "H2               3.35e-24     0      -4.4774\n",
      "H2+              3.35e-24     1      10.9478\n",
      "H3+              5.02e-24     1       4.7572\n",
      "H2exc            3.35e-24     0      -1.8774\n",
      "He               6.65e-24     0       0.0000\n",
      "He+              6.65e-24     1      24.5840\n",
      "HeH+             8.32e-24     1      11.7738\n",
      "C                1.99e-23     0       0.0000\n",
      "C+               1.99e-23     1      11.2597\n",
      "C++              1.99e-23     2      35.6427\n",
      "CH               2.16e-23     0      -3.4689\n",
      "CH+              2.16e-23     1       7.1710\n",
      "CH2              2.33e-23     0      -7.8064\n",
      "CH2+             2.33e-23     1       2.5164\n",
      "CH3              2.50e-23     0     -12.5428\n",
      "CH3+             2.50e-23     1      -2.7071\n",
      "CH4              2.66e-23     0     -17.0181\n",
      "CH4+             2.66e-23     1      -4.5105\n",
      "CH5+             2.83e-23     1      -9.1848\n",
      "C2               3.99e-23     0      -6.2745\n",
      "C2+              3.99e-23     1       5.6253\n",
      "C2H              4.16e-23     0     -11.1768\n",
      "C2H+             4.16e-23     1       0.5244\n",
      "C2H2             4.32e-23     0     -16.8502\n",
      "C2H2+            4.32e-23     1      -5.4506\n",
      "C2H3             4.49e-23     0     -18.3369\n",
      "C2H3+            4.49e-23     1      -9.8409\n",
      "C2H4             4.66e-23     0     -23.0678\n",
      "C2H4+            4.66e-23     1     -12.5656\n",
      "C2H5             4.83e-23     0     -24.5882\n",
      "C2H5+            4.83e-23     1     -16.4626\n",
      "C3               5.98e-23     0     -13.7031\n",
      "C3+              5.98e-23     1      -1.5764\n",
      "C3H              6.15e-23     0     -16.9839\n",
      "C3H+             6.15e-23     1      -8.0541\n",
      "H2CCC            6.32e-23     0     -21.2841\n",
      "C3H2             6.32e-23     0     -21.6986\n",
      "C3H2+            6.32e-23     1     -11.9687\n",
      "C3H3+            6.49e-23     1     -16.4601\n",
      "C4               7.98e-23     0     -18.5811\n",
      "C4+              7.98e-23     1      -6.0413\n",
      "C4H+             8.15e-23     1     -13.0154\n",
      "CH3CH3           4.99e-23     0     -29.0448\n",
      "CH3CH3+          4.99e-23     1     -17.3643\n",
      "C2H7+            5.16e-23     1     -21.5370\n",
      "CH2CCH+          6.49e-23     1     -16.3751\n",
      "CH2CCH           6.49e-23     0     -25.1770\n",
      "CH2CCH2          6.65e-23     0     -29.0459\n",
      "CH3CCH           6.65e-23     0     -29.0459\n",
      "C3H4+            6.65e-23     1     -18.6878\n",
      "C3H5+            6.82e-23     1     -23.2636\n",
      "CH3CHCH2         6.99e-23     0     -35.1824\n",
      "C3H6+            6.99e-23     1     -25.4386\n",
      "C3H7+            7.15e-23     1     -29.2335\n",
      "C4H              8.15e-23     0     -23.6905\n",
      "HC4H             8.31e-23     0     -29.4014\n",
      "C4H3             8.48e-23     0     -30.5451\n",
      "CH2CHCCH         8.65e-23     0     -35.3845\n",
      "C4H5+            8.81e-23     1     -29.5257\n",
      "CH2CHCHCH2       8.98e-23     0     -41.6196\n",
      "C4H2+            8.31e-23     1     -19.2236\n",
      "C4H3+            8.48e-23     1     -23.5870\n",
      "C4H4+            8.65e-23     1     -25.7770\n",
      "C4H7+            9.15e-23     1     -36.1412\n",
      "C5               9.97e-23     0     -25.6516\n",
      "C5+              9.97e-23     1     -14.4478\n",
      "C5H              1.01e-22     0     -30.2488\n",
      "C5H+             1.01e-22     1     -20.0030\n",
      "C5H2             1.03e-22     0     -33.8393\n",
      "C5H2+            1.03e-22     1     -24.6003\n",
      "C5H3+            1.05e-22     1     -27.8011\n",
      "CH3C4H           1.06e-22     0     -41.4053\n",
      "CH3C4H+          1.06e-22     1     -32.0049\n",
      "C5H5+            1.08e-22     1     -36.3164\n",
      "C6               1.20e-22     0     -30.6285\n",
      "C6+              1.20e-22     1    -999.9999\n",
      "C6H              1.21e-22     0     -36.1858\n",
      "C6H+             1.21e-22     1    -999.9999\n",
      "C6H2             1.23e-22     0     -41.9463\n",
      "C6H2+            1.23e-22     1     -32.4422\n",
      "C6H3+            1.25e-22     1    -999.9999\n",
      "C6H4+            1.26e-22     1     -38.6712\n",
      "C6H5+            1.28e-22     1     -43.5911\n",
      "C6H6             1.30e-22     0     -56.6178\n",
      "C6H6+            1.30e-22     1    -999.9999\n",
      "C6H7+            1.31e-22     1    -999.9999\n",
      "C7               1.40e-22     0     -37.8648\n",
      "C7+              1.40e-22     1     -27.7700\n",
      "C7H              1.41e-22     0     -42.6417\n",
      "C7H+             1.41e-22     1    -999.9999\n",
      "C7H2             1.43e-22     0     -46.4050\n",
      "C7H2+            1.43e-22     1    -999.9999\n",
      "C7H3+            1.45e-22     1    -999.9999\n",
      "C7H4+            1.46e-22     1    -999.9999\n",
      "C7H5+            1.48e-22     1    -999.9999\n",
      "CH3C6H           1.46e-22     0    -999.9999\n",
      "C8               1.60e-22     0     -43.5569\n",
      "C8+              1.60e-22     1    -999.9999\n",
      "C8H              1.61e-22     0     -48.5784\n",
      "C8H+             1.61e-22     1    -999.9999\n",
      "C8H2             1.63e-22     0     -54.4912\n",
      "C8H2+            1.63e-22     1     -45.4017\n",
      "C8H3+            1.65e-22     1    -999.9999\n",
      "C8H4+            1.66e-22     1    -999.9999\n",
      "C8H5+            1.68e-22     1    -999.9999\n",
      "CCCH             6.15e-23     0     -16.9105\n",
      "CN               4.32e-23     0      -7.7235\n",
      "CN+              4.32e-23     1       6.3668\n",
      "HCN              4.49e-23     0     -13.0849\n",
      "HCN+             4.49e-23     1       0.5182\n",
      "HCNH+            4.65e-23     1      -6.9130\n",
      "HNC              4.49e-23     0     -12.4060\n",
      "H2CN             4.66e-23     0     -14.2204\n",
      "OCN              6.98e-23     0     -13.4933\n",
      "OCN+             6.98e-23     1      -1.7345\n",
      "CO               4.65e-23     0     -11.1084\n",
      "CO+              4.65e-23     1       2.9051\n",
      "HCO              4.82e-23     0     -11.7033\n",
      "HCO+             4.82e-23     1      -3.6109\n",
      "CO2              7.31e-23     0     -16.5611\n",
      "CO2+             7.31e-23     1      -2.7890\n",
      "HCO2+            7.48e-23     1      -8.6210\n",
      "C2O              6.65e-23     0     -13.3914\n",
      "C2O+             6.65e-23     1      -2.4791\n",
      "HC2O+            6.81e-23     1      -7.7592\n",
      "H2CO             4.99e-23     0     -15.4915\n",
      "H2CO+            4.99e-23     1      -4.6173\n",
      "CH3O             5.15e-23     0     -16.4647\n",
      "H3CO+            5.15e-23     1      -9.3589\n",
      "CH2OH            5.15e-23     0     -16.7383\n",
      "CH3OH            5.32e-23     0     -20.8602\n",
      "CH3OH+           5.32e-23     1     -10.0098\n",
      "CH3OH2+          5.49e-23     1     -15.0230\n",
      "CS               7.32e-23     0      -7.5027\n",
      "CS+              7.32e-23     1       3.8358\n",
      "HCS              7.49e-23     0      -9.3475\n",
      "HCS+             7.49e-23     1      -1.9060\n",
      "H2CS             7.65e-23     0     -13.6072\n",
      "H2CS+            7.65e-23     1      -4.2690\n",
      "H3CS+            7.82e-23     1      -7.5960\n",
      "OCS              9.98e-23     0     -14.2478\n",
      "OCS+             9.98e-23     1      -3.0751\n",
      "HOCS+            1.01e-22     1      -7.1690\n",
      "N                2.33e-23     0       0.0000\n",
      "N+               2.33e-23     1      14.5338\n",
      "N++              2.33e-23     2      44.1268\n",
      "NH               2.49e-23     0      -3.2160\n",
      "NH+              2.49e-23     1      10.0765\n",
      "NH2              2.66e-23     0      -7.3711\n",
      "NH2+             2.66e-23     1       3.7684\n",
      "NH3              2.83e-23     0     -11.9987\n",
      "NH3+             2.83e-23     1      -1.8428\n",
      "NH4+             3.00e-23     1      -7.3047\n",
      "N2               4.65e-23     0      -9.7590\n",
      "N2+              4.65e-23     1       5.8216\n",
      "HN2+             4.82e-23     1      -1.2790\n",
      "NO               4.98e-23     0      -6.4963\n",
      "NO+              4.98e-23     1       2.7683\n",
      "NO2              7.64e-23     0      -9.6222\n",
      "NO2+             7.64e-23     1       0.1306\n",
      "HNO              5.15e-23     0      -8.5367\n",
      "HNO+             5.15e-23     1       1.4593\n",
      "H2NO+            5.32e-23     1      -2.1096\n",
      "NS               7.65e-23     0      -5.0008\n",
      "NS+              7.65e-23     1       3.8711\n",
      "HNS+             7.82e-23     1       1.0071\n",
      "O                2.66e-23     0       0.0000\n",
      "O+               2.66e-23     1      13.6176\n",
      "O++              2.66e-23     2      48.7346\n",
      "OH               2.82e-23     0      -4.3986\n",
      "OH+              2.82e-23     1       8.6013\n",
      "H2O              2.99e-23     0      -9.5113\n",
      "H2O+             2.99e-23     1       3.1000\n",
      "H3O+             3.16e-23     1      -3.0865\n",
      "O2               5.31e-23     0      -5.1158\n",
      "O2+              5.31e-23     1       6.9555\n",
      "O2H+             5.48e-23     1       4.1343\n",
      "SO               7.98e-23     0      -5.3531\n",
      "SO+              7.98e-23     1       4.9666\n",
      "SO2              1.06e-22     0     -11.0131\n",
      "SO2+             1.06e-22     1       1.3028\n",
      "HSO2+            1.08e-22     1      -4.0141\n",
      "S                5.32e-23     0       0.0000\n",
      "S+               5.32e-23     1      10.3363\n",
      "S++              5.32e-23     2      33.7593\n",
      "HS               5.49e-23     0      -3.6710\n",
      "HS+              5.49e-23     1       6.6984\n",
      "H2S              5.66e-23     0      -7.5068\n",
      "H2S+             5.66e-23     1       2.9466\n",
      "H3S+             5.83e-23     1      -1.3028\n",
      "Si               4.66e-23     0       0.0000\n",
      "Si+              4.66e-23     1       8.1567\n",
      "Si++             4.66e-23     2      24.5317\n",
      "SiH              4.83e-23     0      -2.9756\n",
      "SiH+             4.83e-23     1       4.9147\n",
      "SiH2             5.00e-23     0      -6.1046\n",
      "SiH2+            5.00e-23     1       2.8730\n",
      "SiH3             5.17e-23     0      -9.2356\n",
      "SiH3+            5.17e-23     1      -1.0572\n",
      "SiH4             5.33e-23     0     -13.1004\n",
      "SiH4+            5.33e-23     1      -1.8184\n",
      "SiH5+            5.50e-23     1      -6.3118\n",
      "SiC              6.66e-23     0      -4.3789\n",
      "SiC+             6.66e-23     1       4.7209\n",
      "HCSi+            6.83e-23     1       2.2190\n",
      "SiN              6.99e-23     0      -5.6547\n",
      "SiN+             6.99e-23     1       4.3457\n",
      "HNSi+            7.16e-23     1       0.9431\n",
      "SiO              7.32e-23     0      -8.2334\n",
      "SiO+             7.32e-23     1       3.1963\n",
      "SiOH+            7.49e-23     1      -2.6968\n",
      "SiS              9.99e-23     0      -6.3709\n",
      "SiS+             9.99e-23     1       4.1592\n",
      "HSiS+            1.02e-22     1       0.7286\n",
      "Mg               4.04e-23     0       0.0000\n",
      "Mg+              4.04e-23     1       7.6457\n",
      "Mg++             4.04e-23     2      22.6807\n",
      "Fe               9.27e-23     0       0.0000\n",
      "Fe+              9.27e-23     1       7.8665\n",
      "Fe++             9.27e-23     2      24.0265\n",
      "Na               3.82e-23     0       0.0000\n",
      "Na+              3.82e-23     1       5.1386\n",
      "Na++             3.82e-23     2      52.4206\n",
      "Ne               3.35e-23     0       0.0000\n",
      "Ne+              3.35e-23     1      21.5650\n",
      "Ne++             3.35e-23     2      85.0780\n",
      "Ar               6.63e-23     0       0.0000\n",
      "Ar+              6.63e-23     1      15.7540\n",
      "Ar++             6.63e-23     2      43.3750\n",
      "PAH-             1.11e-21    -1    -636.4242\n",
      "PAH              1.11e-21     0    -634.5000\n",
      "PAH+             1.11e-21     1    -628.2566\n",
      "PAH++            1.11e-21     2    -618.8731\n",
      "PAH+++           1.11e-21     3    -606.3495\n",
      "Mg#              4.04e-23     0      -0.4567\n",
      "Fe#              9.27e-23     0      -0.3619\n",
      "Na#              3.82e-23     0      -1.0169\n",
      "C#               1.99e-23     0      -0.0689\n",
      "CH#              2.16e-23     0      -3.5486\n",
      "CH2#             2.33e-23     0      -7.8969\n",
      "CH3#             2.50e-23     0     -12.6441\n",
      "CH4#             2.66e-23     0     -17.1121\n",
      "C2#              3.99e-23     0      -6.4124\n",
      "C2H#             4.16e-23     0     -11.3610\n",
      "C2H2#            4.32e-23     0     -17.0732\n",
      "C2H3#            4.49e-23     0     -18.5986\n",
      "C2H4#            4.66e-23     0     -23.3682\n",
      "C2H5#            4.83e-23     0     -24.9275\n",
      "C3#              5.98e-23     0     -13.9099\n",
      "C3H#             6.15e-23     0     -17.2370\n",
      "C3H2#            6.32e-23     0     -21.9905\n",
      "C4#              7.98e-23     0     -18.8568\n",
      "CN#              4.32e-23     0      -7.8613\n",
      "HCN#             4.49e-23     0     -13.2615\n",
      "HNC#             4.49e-23     0     -12.5827\n",
      "H2CN#            4.66e-23     0     -14.4272\n",
      "OCN#             6.98e-23     0     -13.7002\n",
      "CO#              4.65e-23     0     -11.2075\n",
      "HCO#             4.82e-23     0     -11.8412\n",
      "CO2#             7.31e-23     0     -16.8187\n",
      "C2O#             6.65e-23     0     -13.5594\n",
      "H2CO#            4.99e-23     0     -15.6681\n",
      "CH3O#            5.15e-23     0     -16.9024\n",
      "CH2OH#           5.15e-23     0     -17.1764\n",
      "CH3OH#           5.32e-23     0     -21.2850\n",
      "CS#              7.32e-23     0      -7.6664\n",
      "HCS#             7.49e-23     0      -9.5500\n",
      "H2CS#            7.65e-23     0     -13.8399\n",
      "OCS#             9.98e-23     0     -14.4966\n",
      "N#               2.33e-23     0      -0.0689\n",
      "NH#              2.49e-23     0      -3.4210\n",
      "NH2#             2.66e-23     0      -7.7120\n",
      "NH3#             2.83e-23     0     -12.4756\n",
      "N2#              4.65e-23     0      -9.8271\n",
      "NO#              4.98e-23     0      -6.6342\n",
      "NO2#             7.64e-23     0      -9.8290\n",
      "HNO#             5.15e-23     0      -8.7134\n",
      "NS#              7.65e-23     0      -5.1645\n",
      "O#               2.66e-23     0      -0.1224\n",
      "OH#              2.82e-23     0      -4.6442\n",
      "H2O#             2.99e-23     0      -9.9249\n",
      "O2#              5.31e-23     0      -5.2020\n",
      "SO#              7.98e-23     0      -5.5772\n",
      "SO2#             1.06e-22     0     -11.4724\n",
      "S#               5.32e-23     0      -0.0948\n",
      "HS#              5.49e-23     0      -3.8003\n",
      "H2S#             5.66e-23     0      -7.7432\n",
      "Si#              4.66e-23     0      -0.2327\n",
      "SiH#             4.83e-23     0      -3.2470\n",
      "SiH2#            5.00e-23     0      -6.4148\n",
      "SiH3#            5.17e-23     0      -9.5846\n",
      "SiH4#            5.33e-23     0     -13.4882\n",
      "SiC#             6.66e-23     0      -4.6805\n",
      "SiN#             6.99e-23     0      -5.9564\n",
      "SiO#             7.32e-23     0      -8.5350\n",
      "SiS#             9.99e-23     0      -6.6984\n",
      "PAH#             1.11e-21     0    -637.4627\n",
      "CH3CH3#          4.99e-23     0     -29.4229\n",
      "CH3CCH#          6.65e-23     0     -29.2587\n",
      "CH2CCH2#         6.65e-23     0     -29.4153\n",
      "CH3CHCH2#        6.99e-23     0     -35.6294\n",
      "C4H#             8.15e-23     0     -24.0125\n",
      "HC4H#            8.31e-23     0     -29.7622\n",
      "C4H3#            8.48e-23     0     -30.9446\n",
      "CH2CHCCH#        8.65e-23     0     -35.8228\n",
      "CH2CHCHCH2#      8.98e-23     0     -42.1355\n",
      "C5#              9.97e-23     0     -25.9963\n",
      "C5H#             1.01e-22     0     -30.6398\n",
      "C5H2#            1.03e-22     0     -34.2691\n",
      "CH3C4H#          1.06e-22     0     -41.9126\n",
      "C6#              1.20e-22     0     -31.0421\n",
      "C6H#             1.21e-22     0     -36.6457\n",
      "C6H2#            1.23e-22     0     -42.4450\n",
      "C6H6#            1.30e-22     0     -57.2716\n",
      "C7#              1.40e-22     0     -38.3474\n",
      "C7H#             1.41e-22     0     -43.1706\n",
      "C7H2#            1.43e-22     0     -46.9726\n",
      "CH3C6H#          1.46e-22     0      -0.6452\n",
      "C8#              1.60e-22     0     -44.1084\n",
      "C8H#             1.61e-22     0     -49.1762\n",
      "C8H2#            1.63e-22     0     -55.1277\n",
      "H2CCC#           6.32e-23     0     -21.4659\n",
      "CCCH#            6.15e-23     0     -17.1636\n",
      "CH2CCH#          6.49e-23     0     -25.1770\n",
      "\n"
     ]
    }
   ],
   "execution_count": 27
  },
  {
   "metadata": {
    "ExecuteTime": {
     "end_time": "2025-02-17T18:45:54.077701Z",
     "start_time": "2025-02-17T18:45:54.069899Z"
    }
   },
   "cell_type": "code",
   "source": "print(model.elements)",
   "id": "7f738910cd78c43a",
   "outputs": [
    {
     "name": "stdout",
     "output_type": "stream",
     "text": [
      "name   12    X/H\n",
      "H     12.000 1.000e+00\n",
      "He    10.984 9.638e-02\n",
      "C      8.140 1.380e-04\n",
      "N      7.900 7.943e-05\n",
      "O      8.480 3.020e-04\n",
      "Ne     7.950 8.913e-05\n",
      "Na     3.360 2.291e-09\n",
      "Mg     4.030 1.072e-08\n",
      "Si     4.240 1.738e-08\n",
      "S      5.270 1.862e-07\n",
      "Ar     6.080 1.202e-06\n",
      "Fe     3.240 1.738e-09\n",
      "PAH    3.444 2.778e-09\n",
      "\n"
     ]
    }
   ],
   "execution_count": 28
  },
  {
   "cell_type": "code",
   "id": "a1271ae4",
   "metadata": {
    "ExecuteTime": {
     "end_time": "2025-02-17T18:45:56.202380Z",
     "start_time": "2025-02-17T18:45:56.125347Z"
    }
   },
   "source": [
    "fig,ax = plt.subplots()\n",
    "pp=pplot.Plot(None)\n",
    "\n",
    "tcont=pplot.Contour(model.tg, [20,100,1000], linestyles=[\"-\",\"--\",\":\"],\n",
    "                  showlabels=True,label_fontsize=10,label_fmt=\"%.0f\")\n",
    "#tcont.label_locations=[(100,100),(55,5),(40,5)]\n",
    "\n",
    "# another contour, a simple one\n",
    "avcont=pplot.Contour(model.AV,[1.0],colors=\"black\")\n",
    "\n",
    "cbticks=[10,30,100,300,1000]\n",
    "_ = pp.plot_cont(model, model.tg, r\"$\\mathrm{T_{gas}\\,[K]}$\",zr=True,xlog=True,\n",
    "                ylim=[0,0.5], zlim=[5,1500],extend=\"both\",\n",
    "                oconts=[tcont,avcont],   # here the addtional contour added\n",
    "                contour=False,           # switch of the standard contours\n",
    "                clevels=cbticks,         # explictly set ticks for the cbar\n",
    "                clabels=map(str,cbticks),# and make some nice labels\n",
    "                cb_format=\"%.0f\",\n",
    "                ax=ax,fig=fig)"
   ],
   "outputs": [
    {
     "data": {
      "text/plain": [
       "<IPython.core.display.Javascript object>"
      ],
      "application/javascript": "/* Put everything inside the global mpl namespace */\n/* global mpl */\nwindow.mpl = {};\n\nmpl.get_websocket_type = function () {\n    if (typeof WebSocket !== 'undefined') {\n        return WebSocket;\n    } else if (typeof MozWebSocket !== 'undefined') {\n        return MozWebSocket;\n    } else {\n        alert(\n            'Your browser does not have WebSocket support. ' +\n                'Please try Chrome, Safari or Firefox ≥ 6. ' +\n                'Firefox 4 and 5 are also supported but you ' +\n                'have to enable WebSockets in about:config.'\n        );\n    }\n};\n\nmpl.figure = function (figure_id, websocket, ondownload, parent_element) {\n    this.id = figure_id;\n\n    this.ws = websocket;\n\n    this.supports_binary = this.ws.binaryType !== undefined;\n\n    if (!this.supports_binary) {\n        var warnings = document.getElementById('mpl-warnings');\n        if (warnings) {\n            warnings.style.display = 'block';\n            warnings.textContent =\n                'This browser does not support binary websocket messages. ' +\n                'Performance may be slow.';\n        }\n    }\n\n    this.imageObj = new Image();\n\n    this.context = undefined;\n    this.message = undefined;\n    this.canvas = undefined;\n    this.rubberband_canvas = undefined;\n    this.rubberband_context = undefined;\n    this.format_dropdown = undefined;\n\n    this.image_mode = 'full';\n\n    this.root = document.createElement('div');\n    this.root.setAttribute('style', 'display: inline-block');\n    this._root_extra_style(this.root);\n\n    parent_element.appendChild(this.root);\n\n    this._init_header(this);\n    this._init_canvas(this);\n    this._init_toolbar(this);\n\n    var fig = this;\n\n    this.waiting = false;\n\n    this.ws.onopen = function () {\n        fig.send_message('supports_binary', { value: fig.supports_binary });\n        fig.send_message('send_image_mode', {});\n        if (fig.ratio !== 1) {\n            fig.send_message('set_device_pixel_ratio', {\n                device_pixel_ratio: fig.ratio,\n            });\n        }\n        fig.send_message('refresh', {});\n    };\n\n    this.imageObj.onload = function () {\n        if (fig.image_mode === 'full') {\n            // Full images could contain transparency (where diff images\n            // almost always do), so we need to clear the canvas so that\n            // there is no ghosting.\n            fig.context.clearRect(0, 0, fig.canvas.width, fig.canvas.height);\n        }\n        fig.context.drawImage(fig.imageObj, 0, 0);\n    };\n\n    this.imageObj.onunload = function () {\n        fig.ws.close();\n    };\n\n    this.ws.onmessage = this._make_on_message_function(this);\n\n    this.ondownload = ondownload;\n};\n\nmpl.figure.prototype._init_header = function () {\n    var titlebar = document.createElement('div');\n    titlebar.classList =\n        'ui-dialog-titlebar ui-widget-header ui-corner-all ui-helper-clearfix';\n    var titletext = document.createElement('div');\n    titletext.classList = 'ui-dialog-title';\n    titletext.setAttribute(\n        'style',\n        'width: 100%; text-align: center; padding: 3px;'\n    );\n    titlebar.appendChild(titletext);\n    this.root.appendChild(titlebar);\n    this.header = titletext;\n};\n\nmpl.figure.prototype._canvas_extra_style = function (_canvas_div) {};\n\nmpl.figure.prototype._root_extra_style = function (_canvas_div) {};\n\nmpl.figure.prototype._init_canvas = function () {\n    var fig = this;\n\n    var canvas_div = (this.canvas_div = document.createElement('div'));\n    canvas_div.setAttribute('tabindex', '0');\n    canvas_div.setAttribute(\n        'style',\n        'border: 1px solid #ddd;' +\n            'box-sizing: content-box;' +\n            'clear: both;' +\n            'min-height: 1px;' +\n            'min-width: 1px;' +\n            'outline: 0;' +\n            'overflow: hidden;' +\n            'position: relative;' +\n            'resize: both;' +\n            'z-index: 2;'\n    );\n\n    function on_keyboard_event_closure(name) {\n        return function (event) {\n            return fig.key_event(event, name);\n        };\n    }\n\n    canvas_div.addEventListener(\n        'keydown',\n        on_keyboard_event_closure('key_press')\n    );\n    canvas_div.addEventListener(\n        'keyup',\n        on_keyboard_event_closure('key_release')\n    );\n\n    this._canvas_extra_style(canvas_div);\n    this.root.appendChild(canvas_div);\n\n    var canvas = (this.canvas = document.createElement('canvas'));\n    canvas.classList.add('mpl-canvas');\n    canvas.setAttribute(\n        'style',\n        'box-sizing: content-box;' +\n            'pointer-events: none;' +\n            'position: relative;' +\n            'z-index: 0;'\n    );\n\n    this.context = canvas.getContext('2d');\n\n    var backingStore =\n        this.context.backingStorePixelRatio ||\n        this.context.webkitBackingStorePixelRatio ||\n        this.context.mozBackingStorePixelRatio ||\n        this.context.msBackingStorePixelRatio ||\n        this.context.oBackingStorePixelRatio ||\n        this.context.backingStorePixelRatio ||\n        1;\n\n    this.ratio = (window.devicePixelRatio || 1) / backingStore;\n\n    var rubberband_canvas = (this.rubberband_canvas = document.createElement(\n        'canvas'\n    ));\n    rubberband_canvas.setAttribute(\n        'style',\n        'box-sizing: content-box;' +\n            'left: 0;' +\n            'pointer-events: none;' +\n            'position: absolute;' +\n            'top: 0;' +\n            'z-index: 1;'\n    );\n\n    // Apply a ponyfill if ResizeObserver is not implemented by browser.\n    if (this.ResizeObserver === undefined) {\n        if (window.ResizeObserver !== undefined) {\n            this.ResizeObserver = window.ResizeObserver;\n        } else {\n            var obs = _JSXTOOLS_RESIZE_OBSERVER({});\n            this.ResizeObserver = obs.ResizeObserver;\n        }\n    }\n\n    this.resizeObserverInstance = new this.ResizeObserver(function (entries) {\n        // There's no need to resize if the WebSocket is not connected:\n        // - If it is still connecting, then we will get an initial resize from\n        //   Python once it connects.\n        // - If it has disconnected, then resizing will clear the canvas and\n        //   never get anything back to refill it, so better to not resize and\n        //   keep something visible.\n        if (fig.ws.readyState != 1) {\n            return;\n        }\n        var nentries = entries.length;\n        for (var i = 0; i < nentries; i++) {\n            var entry = entries[i];\n            var width, height;\n            if (entry.contentBoxSize) {\n                if (entry.contentBoxSize instanceof Array) {\n                    // Chrome 84 implements new version of spec.\n                    width = entry.contentBoxSize[0].inlineSize;\n                    height = entry.contentBoxSize[0].blockSize;\n                } else {\n                    // Firefox implements old version of spec.\n                    width = entry.contentBoxSize.inlineSize;\n                    height = entry.contentBoxSize.blockSize;\n                }\n            } else {\n                // Chrome <84 implements even older version of spec.\n                width = entry.contentRect.width;\n                height = entry.contentRect.height;\n            }\n\n            // Keep the size of the canvas and rubber band canvas in sync with\n            // the canvas container.\n            if (entry.devicePixelContentBoxSize) {\n                // Chrome 84 implements new version of spec.\n                canvas.setAttribute(\n                    'width',\n                    entry.devicePixelContentBoxSize[0].inlineSize\n                );\n                canvas.setAttribute(\n                    'height',\n                    entry.devicePixelContentBoxSize[0].blockSize\n                );\n            } else {\n                canvas.setAttribute('width', width * fig.ratio);\n                canvas.setAttribute('height', height * fig.ratio);\n            }\n            /* This rescales the canvas back to display pixels, so that it\n             * appears correct on HiDPI screens. */\n            canvas.style.width = width + 'px';\n            canvas.style.height = height + 'px';\n\n            rubberband_canvas.setAttribute('width', width);\n            rubberband_canvas.setAttribute('height', height);\n\n            // And update the size in Python. We ignore the initial 0/0 size\n            // that occurs as the element is placed into the DOM, which should\n            // otherwise not happen due to the minimum size styling.\n            if (width != 0 && height != 0) {\n                fig.request_resize(width, height);\n            }\n        }\n    });\n    this.resizeObserverInstance.observe(canvas_div);\n\n    function on_mouse_event_closure(name) {\n        /* User Agent sniffing is bad, but WebKit is busted:\n         * https://bugs.webkit.org/show_bug.cgi?id=144526\n         * https://bugs.webkit.org/show_bug.cgi?id=181818\n         * The worst that happens here is that they get an extra browser\n         * selection when dragging, if this check fails to catch them.\n         */\n        var UA = navigator.userAgent;\n        var isWebKit = /AppleWebKit/.test(UA) && !/Chrome/.test(UA);\n        if(isWebKit) {\n            return function (event) {\n                /* This prevents the web browser from automatically changing to\n                 * the text insertion cursor when the button is pressed. We\n                 * want to control all of the cursor setting manually through\n                 * the 'cursor' event from matplotlib */\n                event.preventDefault()\n                return fig.mouse_event(event, name);\n            };\n        } else {\n            return function (event) {\n                return fig.mouse_event(event, name);\n            };\n        }\n    }\n\n    canvas_div.addEventListener(\n        'mousedown',\n        on_mouse_event_closure('button_press')\n    );\n    canvas_div.addEventListener(\n        'mouseup',\n        on_mouse_event_closure('button_release')\n    );\n    canvas_div.addEventListener(\n        'dblclick',\n        on_mouse_event_closure('dblclick')\n    );\n    // Throttle sequential mouse events to 1 every 20ms.\n    canvas_div.addEventListener(\n        'mousemove',\n        on_mouse_event_closure('motion_notify')\n    );\n\n    canvas_div.addEventListener(\n        'mouseenter',\n        on_mouse_event_closure('figure_enter')\n    );\n    canvas_div.addEventListener(\n        'mouseleave',\n        on_mouse_event_closure('figure_leave')\n    );\n\n    canvas_div.addEventListener('wheel', function (event) {\n        if (event.deltaY < 0) {\n            event.step = 1;\n        } else {\n            event.step = -1;\n        }\n        on_mouse_event_closure('scroll')(event);\n    });\n\n    canvas_div.appendChild(canvas);\n    canvas_div.appendChild(rubberband_canvas);\n\n    this.rubberband_context = rubberband_canvas.getContext('2d');\n    this.rubberband_context.strokeStyle = '#000000';\n\n    this._resize_canvas = function (width, height, forward) {\n        if (forward) {\n            canvas_div.style.width = width + 'px';\n            canvas_div.style.height = height + 'px';\n        }\n    };\n\n    // Disable right mouse context menu.\n    canvas_div.addEventListener('contextmenu', function (_e) {\n        event.preventDefault();\n        return false;\n    });\n\n    function set_focus() {\n        canvas.focus();\n        canvas_div.focus();\n    }\n\n    window.setTimeout(set_focus, 100);\n};\n\nmpl.figure.prototype._init_toolbar = function () {\n    var fig = this;\n\n    var toolbar = document.createElement('div');\n    toolbar.classList = 'mpl-toolbar';\n    this.root.appendChild(toolbar);\n\n    function on_click_closure(name) {\n        return function (_event) {\n            return fig.toolbar_button_onclick(name);\n        };\n    }\n\n    function on_mouseover_closure(tooltip) {\n        return function (event) {\n            if (!event.currentTarget.disabled) {\n                return fig.toolbar_button_onmouseover(tooltip);\n            }\n        };\n    }\n\n    fig.buttons = {};\n    var buttonGroup = document.createElement('div');\n    buttonGroup.classList = 'mpl-button-group';\n    for (var toolbar_ind in mpl.toolbar_items) {\n        var name = mpl.toolbar_items[toolbar_ind][0];\n        var tooltip = mpl.toolbar_items[toolbar_ind][1];\n        var image = mpl.toolbar_items[toolbar_ind][2];\n        var method_name = mpl.toolbar_items[toolbar_ind][3];\n\n        if (!name) {\n            /* Instead of a spacer, we start a new button group. */\n            if (buttonGroup.hasChildNodes()) {\n                toolbar.appendChild(buttonGroup);\n            }\n            buttonGroup = document.createElement('div');\n            buttonGroup.classList = 'mpl-button-group';\n            continue;\n        }\n\n        var button = (fig.buttons[name] = document.createElement('button'));\n        button.classList = 'mpl-widget';\n        button.setAttribute('role', 'button');\n        button.setAttribute('aria-disabled', 'false');\n        button.addEventListener('click', on_click_closure(method_name));\n        button.addEventListener('mouseover', on_mouseover_closure(tooltip));\n\n        var icon_img = document.createElement('img');\n        icon_img.src = '_images/' + image + '.png';\n        icon_img.srcset = '_images/' + image + '_large.png 2x';\n        icon_img.alt = tooltip;\n        button.appendChild(icon_img);\n\n        buttonGroup.appendChild(button);\n    }\n\n    if (buttonGroup.hasChildNodes()) {\n        toolbar.appendChild(buttonGroup);\n    }\n\n    var fmt_picker = document.createElement('select');\n    fmt_picker.classList = 'mpl-widget';\n    toolbar.appendChild(fmt_picker);\n    this.format_dropdown = fmt_picker;\n\n    for (var ind in mpl.extensions) {\n        var fmt = mpl.extensions[ind];\n        var option = document.createElement('option');\n        option.selected = fmt === mpl.default_extension;\n        option.innerHTML = fmt;\n        fmt_picker.appendChild(option);\n    }\n\n    var status_bar = document.createElement('span');\n    status_bar.classList = 'mpl-message';\n    toolbar.appendChild(status_bar);\n    this.message = status_bar;\n};\n\nmpl.figure.prototype.request_resize = function (x_pixels, y_pixels) {\n    // Request matplotlib to resize the figure. Matplotlib will then trigger a resize in the client,\n    // which will in turn request a refresh of the image.\n    this.send_message('resize', { width: x_pixels, height: y_pixels });\n};\n\nmpl.figure.prototype.send_message = function (type, properties) {\n    properties['type'] = type;\n    properties['figure_id'] = this.id;\n    this.ws.send(JSON.stringify(properties));\n};\n\nmpl.figure.prototype.send_draw_message = function () {\n    if (!this.waiting) {\n        this.waiting = true;\n        this.ws.send(JSON.stringify({ type: 'draw', figure_id: this.id }));\n    }\n};\n\nmpl.figure.prototype.handle_save = function (fig, _msg) {\n    var format_dropdown = fig.format_dropdown;\n    var format = format_dropdown.options[format_dropdown.selectedIndex].value;\n    fig.ondownload(fig, format);\n};\n\nmpl.figure.prototype.handle_resize = function (fig, msg) {\n    var size = msg['size'];\n    if (size[0] !== fig.canvas.width || size[1] !== fig.canvas.height) {\n        fig._resize_canvas(size[0], size[1], msg['forward']);\n        fig.send_message('refresh', {});\n    }\n};\n\nmpl.figure.prototype.handle_rubberband = function (fig, msg) {\n    var x0 = msg['x0'] / fig.ratio;\n    var y0 = (fig.canvas.height - msg['y0']) / fig.ratio;\n    var x1 = msg['x1'] / fig.ratio;\n    var y1 = (fig.canvas.height - msg['y1']) / fig.ratio;\n    x0 = Math.floor(x0) + 0.5;\n    y0 = Math.floor(y0) + 0.5;\n    x1 = Math.floor(x1) + 0.5;\n    y1 = Math.floor(y1) + 0.5;\n    var min_x = Math.min(x0, x1);\n    var min_y = Math.min(y0, y1);\n    var width = Math.abs(x1 - x0);\n    var height = Math.abs(y1 - y0);\n\n    fig.rubberband_context.clearRect(\n        0,\n        0,\n        fig.canvas.width / fig.ratio,\n        fig.canvas.height / fig.ratio\n    );\n\n    fig.rubberband_context.strokeRect(min_x, min_y, width, height);\n};\n\nmpl.figure.prototype.handle_figure_label = function (fig, msg) {\n    // Updates the figure title.\n    fig.header.textContent = msg['label'];\n};\n\nmpl.figure.prototype.handle_cursor = function (fig, msg) {\n    fig.canvas_div.style.cursor = msg['cursor'];\n};\n\nmpl.figure.prototype.handle_message = function (fig, msg) {\n    fig.message.textContent = msg['message'];\n};\n\nmpl.figure.prototype.handle_draw = function (fig, _msg) {\n    // Request the server to send over a new figure.\n    fig.send_draw_message();\n};\n\nmpl.figure.prototype.handle_image_mode = function (fig, msg) {\n    fig.image_mode = msg['mode'];\n};\n\nmpl.figure.prototype.handle_history_buttons = function (fig, msg) {\n    for (var key in msg) {\n        if (!(key in fig.buttons)) {\n            continue;\n        }\n        fig.buttons[key].disabled = !msg[key];\n        fig.buttons[key].setAttribute('aria-disabled', !msg[key]);\n    }\n};\n\nmpl.figure.prototype.handle_navigate_mode = function (fig, msg) {\n    if (msg['mode'] === 'PAN') {\n        fig.buttons['Pan'].classList.add('active');\n        fig.buttons['Zoom'].classList.remove('active');\n    } else if (msg['mode'] === 'ZOOM') {\n        fig.buttons['Pan'].classList.remove('active');\n        fig.buttons['Zoom'].classList.add('active');\n    } else {\n        fig.buttons['Pan'].classList.remove('active');\n        fig.buttons['Zoom'].classList.remove('active');\n    }\n};\n\nmpl.figure.prototype.updated_canvas_event = function () {\n    // Called whenever the canvas gets updated.\n    this.send_message('ack', {});\n};\n\n// A function to construct a web socket function for onmessage handling.\n// Called in the figure constructor.\nmpl.figure.prototype._make_on_message_function = function (fig) {\n    return function socket_on_message(evt) {\n        if (evt.data instanceof Blob) {\n            var img = evt.data;\n            if (img.type !== 'image/png') {\n                /* FIXME: We get \"Resource interpreted as Image but\n                 * transferred with MIME type text/plain:\" errors on\n                 * Chrome.  But how to set the MIME type?  It doesn't seem\n                 * to be part of the websocket stream */\n                img.type = 'image/png';\n            }\n\n            /* Free the memory for the previous frames */\n            if (fig.imageObj.src) {\n                (window.URL || window.webkitURL).revokeObjectURL(\n                    fig.imageObj.src\n                );\n            }\n\n            fig.imageObj.src = (window.URL || window.webkitURL).createObjectURL(\n                img\n            );\n            fig.updated_canvas_event();\n            fig.waiting = false;\n            return;\n        } else if (\n            typeof evt.data === 'string' &&\n            evt.data.slice(0, 21) === 'data:image/png;base64'\n        ) {\n            fig.imageObj.src = evt.data;\n            fig.updated_canvas_event();\n            fig.waiting = false;\n            return;\n        }\n\n        var msg = JSON.parse(evt.data);\n        var msg_type = msg['type'];\n\n        // Call the  \"handle_{type}\" callback, which takes\n        // the figure and JSON message as its only arguments.\n        try {\n            var callback = fig['handle_' + msg_type];\n        } catch (e) {\n            console.log(\n                \"No handler for the '\" + msg_type + \"' message type: \",\n                msg\n            );\n            return;\n        }\n\n        if (callback) {\n            try {\n                // console.log(\"Handling '\" + msg_type + \"' message: \", msg);\n                callback(fig, msg);\n            } catch (e) {\n                console.log(\n                    \"Exception inside the 'handler_\" + msg_type + \"' callback:\",\n                    e,\n                    e.stack,\n                    msg\n                );\n            }\n        }\n    };\n};\n\nfunction getModifiers(event) {\n    var mods = [];\n    if (event.ctrlKey) {\n        mods.push('ctrl');\n    }\n    if (event.altKey) {\n        mods.push('alt');\n    }\n    if (event.shiftKey) {\n        mods.push('shift');\n    }\n    if (event.metaKey) {\n        mods.push('meta');\n    }\n    return mods;\n}\n\n/*\n * return a copy of an object with only non-object keys\n * we need this to avoid circular references\n * https://stackoverflow.com/a/24161582/3208463\n */\nfunction simpleKeys(original) {\n    return Object.keys(original).reduce(function (obj, key) {\n        if (typeof original[key] !== 'object') {\n            obj[key] = original[key];\n        }\n        return obj;\n    }, {});\n}\n\nmpl.figure.prototype.mouse_event = function (event, name) {\n    if (name === 'button_press') {\n        this.canvas.focus();\n        this.canvas_div.focus();\n    }\n\n    // from https://stackoverflow.com/q/1114465\n    var boundingRect = this.canvas.getBoundingClientRect();\n    var x = (event.clientX - boundingRect.left) * this.ratio;\n    var y = (event.clientY - boundingRect.top) * this.ratio;\n\n    this.send_message(name, {\n        x: x,\n        y: y,\n        button: event.button,\n        step: event.step,\n        buttons: event.buttons,\n        modifiers: getModifiers(event),\n        guiEvent: simpleKeys(event),\n    });\n\n    return false;\n};\n\nmpl.figure.prototype._key_event_extra = function (_event, _name) {\n    // Handle any extra behaviour associated with a key event\n};\n\nmpl.figure.prototype.key_event = function (event, name) {\n    // Prevent repeat events\n    if (name === 'key_press') {\n        if (event.key === this._key) {\n            return;\n        } else {\n            this._key = event.key;\n        }\n    }\n    if (name === 'key_release') {\n        this._key = null;\n    }\n\n    var value = '';\n    if (event.ctrlKey && event.key !== 'Control') {\n        value += 'ctrl+';\n    }\n    else if (event.altKey && event.key !== 'Alt') {\n        value += 'alt+';\n    }\n    else if (event.shiftKey && event.key !== 'Shift') {\n        value += 'shift+';\n    }\n\n    value += 'k' + event.key;\n\n    this._key_event_extra(event, name);\n\n    this.send_message(name, { key: value, guiEvent: simpleKeys(event) });\n    return false;\n};\n\nmpl.figure.prototype.toolbar_button_onclick = function (name) {\n    if (name === 'download') {\n        this.handle_save(this, null);\n    } else {\n        this.send_message('toolbar_button', { name: name });\n    }\n};\n\nmpl.figure.prototype.toolbar_button_onmouseover = function (tooltip) {\n    this.message.textContent = tooltip;\n};\n\n///////////////// REMAINING CONTENT GENERATED BY embed_js.py /////////////////\n// prettier-ignore\nvar _JSXTOOLS_RESIZE_OBSERVER=function(A){var t,i=new WeakMap,n=new WeakMap,a=new WeakMap,r=new WeakMap,o=new Set;function s(e){if(!(this instanceof s))throw new TypeError(\"Constructor requires 'new' operator\");i.set(this,e)}function h(){throw new TypeError(\"Function is not a constructor\")}function c(e,t,i,n){e=0 in arguments?Number(arguments[0]):0,t=1 in arguments?Number(arguments[1]):0,i=2 in arguments?Number(arguments[2]):0,n=3 in arguments?Number(arguments[3]):0,this.right=(this.x=this.left=e)+(this.width=i),this.bottom=(this.y=this.top=t)+(this.height=n),Object.freeze(this)}function d(){t=requestAnimationFrame(d);var s=new WeakMap,p=new Set;o.forEach((function(t){r.get(t).forEach((function(i){var r=t instanceof window.SVGElement,o=a.get(t),d=r?0:parseFloat(o.paddingTop),f=r?0:parseFloat(o.paddingRight),l=r?0:parseFloat(o.paddingBottom),u=r?0:parseFloat(o.paddingLeft),g=r?0:parseFloat(o.borderTopWidth),m=r?0:parseFloat(o.borderRightWidth),w=r?0:parseFloat(o.borderBottomWidth),b=u+f,F=d+l,v=(r?0:parseFloat(o.borderLeftWidth))+m,W=g+w,y=r?0:t.offsetHeight-W-t.clientHeight,E=r?0:t.offsetWidth-v-t.clientWidth,R=b+v,z=F+W,M=r?t.width:parseFloat(o.width)-R-E,O=r?t.height:parseFloat(o.height)-z-y;if(n.has(t)){var k=n.get(t);if(k[0]===M&&k[1]===O)return}n.set(t,[M,O]);var S=Object.create(h.prototype);S.target=t,S.contentRect=new c(u,d,M,O),s.has(i)||(s.set(i,[]),p.add(i)),s.get(i).push(S)}))})),p.forEach((function(e){i.get(e).call(e,s.get(e),e)}))}return s.prototype.observe=function(i){if(i instanceof window.Element){r.has(i)||(r.set(i,new Set),o.add(i),a.set(i,window.getComputedStyle(i)));var n=r.get(i);n.has(this)||n.add(this),cancelAnimationFrame(t),t=requestAnimationFrame(d)}},s.prototype.unobserve=function(i){if(i instanceof window.Element&&r.has(i)){var n=r.get(i);n.has(this)&&(n.delete(this),n.size||(r.delete(i),o.delete(i))),n.size||r.delete(i),o.size||cancelAnimationFrame(t)}},A.DOMRectReadOnly=c,A.ResizeObserver=s,A.ResizeObserverEntry=h,A}; // eslint-disable-line\nmpl.toolbar_items = [[\"Home\", \"Reset original view\", \"fa fa-home\", \"home\"], [\"Back\", \"Back to previous view\", \"fa fa-arrow-left\", \"back\"], [\"Forward\", \"Forward to next view\", \"fa fa-arrow-right\", \"forward\"], [\"\", \"\", \"\", \"\"], [\"Pan\", \"Left button pans, Right button zooms\\nx/y fixes axis, CTRL fixes aspect\", \"fa fa-arrows\", \"pan\"], [\"Zoom\", \"Zoom to rectangle\\nx/y fixes axis\", \"fa fa-square-o\", \"zoom\"], [\"\", \"\", \"\", \"\"], [\"Download\", \"Download plot\", \"fa fa-floppy-o\", \"download\"]];\n\nmpl.extensions = [\"eps\", \"jpeg\", \"pgf\", \"pdf\", \"png\", \"ps\", \"raw\", \"svg\", \"tif\", \"webp\"];\n\nmpl.default_extension = \"png\";/* global mpl */\n\nvar comm_websocket_adapter = function (comm) {\n    // Create a \"websocket\"-like object which calls the given IPython comm\n    // object with the appropriate methods. Currently this is a non binary\n    // socket, so there is still some room for performance tuning.\n    var ws = {};\n\n    ws.binaryType = comm.kernel.ws.binaryType;\n    ws.readyState = comm.kernel.ws.readyState;\n    function updateReadyState(_event) {\n        if (comm.kernel.ws) {\n            ws.readyState = comm.kernel.ws.readyState;\n        } else {\n            ws.readyState = 3; // Closed state.\n        }\n    }\n    comm.kernel.ws.addEventListener('open', updateReadyState);\n    comm.kernel.ws.addEventListener('close', updateReadyState);\n    comm.kernel.ws.addEventListener('error', updateReadyState);\n\n    ws.close = function () {\n        comm.close();\n    };\n    ws.send = function (m) {\n        //console.log('sending', m);\n        comm.send(m);\n    };\n    // Register the callback with on_msg.\n    comm.on_msg(function (msg) {\n        //console.log('receiving', msg['content']['data'], msg);\n        var data = msg['content']['data'];\n        if (data['blob'] !== undefined) {\n            data = {\n                data: new Blob(msg['buffers'], { type: data['blob'] }),\n            };\n        }\n        // Pass the mpl event to the overridden (by mpl) onmessage function.\n        ws.onmessage(data);\n    });\n    return ws;\n};\n\nmpl.mpl_figure_comm = function (comm, msg) {\n    // This is the function which gets called when the mpl process\n    // starts-up an IPython Comm through the \"matplotlib\" channel.\n\n    var id = msg.content.data.id;\n    // Get hold of the div created by the display call when the Comm\n    // socket was opened in Python.\n    var element = document.getElementById(id);\n    var ws_proxy = comm_websocket_adapter(comm);\n\n    function ondownload(figure, _format) {\n        window.open(figure.canvas.toDataURL());\n    }\n\n    var fig = new mpl.figure(id, ws_proxy, ondownload, element);\n\n    // Call onopen now - mpl needs it, as it is assuming we've passed it a real\n    // web socket which is closed, not our websocket->open comm proxy.\n    ws_proxy.onopen();\n\n    fig.parent_element = element;\n    fig.cell_info = mpl.find_output_cell(\"<div id='\" + id + \"'></div>\");\n    if (!fig.cell_info) {\n        console.error('Failed to find cell for figure', id, fig);\n        return;\n    }\n    fig.cell_info[0].output_area.element.on(\n        'cleared',\n        { fig: fig },\n        fig._remove_fig_handler\n    );\n};\n\nmpl.figure.prototype.handle_close = function (fig, msg) {\n    var width = fig.canvas.width / fig.ratio;\n    fig.cell_info[0].output_area.element.off(\n        'cleared',\n        fig._remove_fig_handler\n    );\n    fig.resizeObserverInstance.unobserve(fig.canvas_div);\n\n    // Update the output cell to use the data from the current canvas.\n    fig.push_to_output();\n    var dataURL = fig.canvas.toDataURL();\n    // Re-enable the keyboard manager in IPython - without this line, in FF,\n    // the notebook keyboard shortcuts fail.\n    IPython.keyboard_manager.enable();\n    fig.parent_element.innerHTML =\n        '<img src=\"' + dataURL + '\" width=\"' + width + '\">';\n    fig.close_ws(fig, msg);\n};\n\nmpl.figure.prototype.close_ws = function (fig, msg) {\n    fig.send_message('closing', msg);\n    // fig.ws.close()\n};\n\nmpl.figure.prototype.push_to_output = function (_remove_interactive) {\n    // Turn the data on the canvas into data in the output cell.\n    var width = this.canvas.width / this.ratio;\n    var dataURL = this.canvas.toDataURL();\n    this.cell_info[1]['text/html'] =\n        '<img src=\"' + dataURL + '\" width=\"' + width + '\">';\n};\n\nmpl.figure.prototype.updated_canvas_event = function () {\n    // Tell IPython that the notebook contents must change.\n    IPython.notebook.set_dirty(true);\n    this.send_message('ack', {});\n    var fig = this;\n    // Wait a second, then push the new image to the DOM so\n    // that it is saved nicely (might be nice to debounce this).\n    setTimeout(function () {\n        fig.push_to_output();\n    }, 1000);\n};\n\nmpl.figure.prototype._init_toolbar = function () {\n    var fig = this;\n\n    var toolbar = document.createElement('div');\n    toolbar.classList = 'btn-toolbar';\n    this.root.appendChild(toolbar);\n\n    function on_click_closure(name) {\n        return function (_event) {\n            return fig.toolbar_button_onclick(name);\n        };\n    }\n\n    function on_mouseover_closure(tooltip) {\n        return function (event) {\n            if (!event.currentTarget.disabled) {\n                return fig.toolbar_button_onmouseover(tooltip);\n            }\n        };\n    }\n\n    fig.buttons = {};\n    var buttonGroup = document.createElement('div');\n    buttonGroup.classList = 'btn-group';\n    var button;\n    for (var toolbar_ind in mpl.toolbar_items) {\n        var name = mpl.toolbar_items[toolbar_ind][0];\n        var tooltip = mpl.toolbar_items[toolbar_ind][1];\n        var image = mpl.toolbar_items[toolbar_ind][2];\n        var method_name = mpl.toolbar_items[toolbar_ind][3];\n\n        if (!name) {\n            /* Instead of a spacer, we start a new button group. */\n            if (buttonGroup.hasChildNodes()) {\n                toolbar.appendChild(buttonGroup);\n            }\n            buttonGroup = document.createElement('div');\n            buttonGroup.classList = 'btn-group';\n            continue;\n        }\n\n        button = fig.buttons[name] = document.createElement('button');\n        button.classList = 'btn btn-default';\n        button.href = '#';\n        button.title = name;\n        button.innerHTML = '<i class=\"fa ' + image + ' fa-lg\"></i>';\n        button.addEventListener('click', on_click_closure(method_name));\n        button.addEventListener('mouseover', on_mouseover_closure(tooltip));\n        buttonGroup.appendChild(button);\n    }\n\n    if (buttonGroup.hasChildNodes()) {\n        toolbar.appendChild(buttonGroup);\n    }\n\n    // Add the status bar.\n    var status_bar = document.createElement('span');\n    status_bar.classList = 'mpl-message pull-right';\n    toolbar.appendChild(status_bar);\n    this.message = status_bar;\n\n    // Add the close button to the window.\n    var buttongrp = document.createElement('div');\n    buttongrp.classList = 'btn-group inline pull-right';\n    button = document.createElement('button');\n    button.classList = 'btn btn-mini btn-primary';\n    button.href = '#';\n    button.title = 'Stop Interaction';\n    button.innerHTML = '<i class=\"fa fa-power-off icon-remove icon-large\"></i>';\n    button.addEventListener('click', function (_evt) {\n        fig.handle_close(fig, {});\n    });\n    button.addEventListener(\n        'mouseover',\n        on_mouseover_closure('Stop Interaction')\n    );\n    buttongrp.appendChild(button);\n    var titlebar = this.root.querySelector('.ui-dialog-titlebar');\n    titlebar.insertBefore(buttongrp, titlebar.firstChild);\n};\n\nmpl.figure.prototype._remove_fig_handler = function (event) {\n    var fig = event.data.fig;\n    if (event.target !== this) {\n        // Ignore bubbled events from children.\n        return;\n    }\n    fig.close_ws(fig, {});\n};\n\nmpl.figure.prototype._root_extra_style = function (el) {\n    el.style.boxSizing = 'content-box'; // override notebook setting of border-box.\n};\n\nmpl.figure.prototype._canvas_extra_style = function (el) {\n    // this is important to make the div 'focusable\n    el.setAttribute('tabindex', 0);\n    // reach out to IPython and tell the keyboard manager to turn it's self\n    // off when our div gets focus\n\n    // location in version 3\n    if (IPython.notebook.keyboard_manager) {\n        IPython.notebook.keyboard_manager.register_events(el);\n    } else {\n        // location in version 2\n        IPython.keyboard_manager.register_events(el);\n    }\n};\n\nmpl.figure.prototype._key_event_extra = function (event, _name) {\n    // Check for shift+enter\n    if (event.shiftKey && event.which === 13) {\n        this.canvas_div.blur();\n        // select the cell after this one\n        var index = IPython.notebook.find_cell_index(this.cell_info[0]);\n        IPython.notebook.select(index + 1);\n    }\n};\n\nmpl.figure.prototype.handle_save = function (fig, _msg) {\n    fig.ondownload(fig, null);\n};\n\nmpl.find_output_cell = function (html_output) {\n    // Return the cell and output element which can be found *uniquely* in the notebook.\n    // Note - this is a bit hacky, but it is done because the \"notebook_saving.Notebook\"\n    // IPython event is triggered only after the cells have been serialised, which for\n    // our purposes (turning an active figure into a static one), is too late.\n    var cells = IPython.notebook.get_cells();\n    var ncells = cells.length;\n    for (var i = 0; i < ncells; i++) {\n        var cell = cells[i];\n        if (cell.cell_type === 'code') {\n            for (var j = 0; j < cell.output_area.outputs.length; j++) {\n                var data = cell.output_area.outputs[j];\n                if (data.data) {\n                    // IPython >= 3 moved mimebundle to data attribute of output\n                    data = data.data;\n                }\n                if (data['text/html'] === html_output) {\n                    return [cell, data, j];\n                }\n            }\n        }\n    }\n};\n\n// Register the function which deals with the matplotlib target/channel.\n// The kernel may be null if the page has been refreshed.\nif (IPython.notebook.kernel !== null) {\n    IPython.notebook.kernel.comm_manager.register_target(\n        'matplotlib',\n        mpl.mpl_figure_comm\n    );\n}\n"
     },
     "metadata": {},
     "output_type": "display_data"
    },
    {
     "data": {
      "text/plain": [
       "<IPython.core.display.HTML object>"
      ],
      "text/html": [
       "<div id='f3df5a70-91c3-44a6-818e-e92e22cc0417'></div>"
      ]
     },
     "metadata": {},
     "output_type": "display_data"
    },
    {
     "name": "stdout",
     "output_type": "stream",
     "text": [
      "PLOT: plot_cont ...\n"
     ]
    },
    {
     "name": "stderr",
     "output_type": "stream",
     "text": [
      "C:\\Users\\niels\\OneDrive\\Documenten\\BRP\\.venv\\Lib\\site-packages\\matplotlib\\backends\\backend_nbagg.py:181: DeprecationWarning: The `ipykernel.comm.Comm` class has been deprecated. Please use the `comm` module instead.For creating comms, use the function `from comm import create_comm`.\n",
      "  self.comm = Comm('matplotlib', data={'id': self.uuid})\n"
     ]
    }
   ],
   "execution_count": 29
  },
  {
   "cell_type": "code",
   "id": "c28e739d",
   "metadata": {},
   "source": [
    "fig,ax = plt.subplots()\n",
    "pp=pplot.Plot(None)\n",
    "\n",
    "tcont=pplot.Contour(model.tg, [20,100,1000], linestyles=[\"-\",\"--\",\":\"],\n",
    "                  showlabels=True,label_fontsize=10,label_fmt=\"%.0f\")\n",
    "#tcont.label_locations=[(100,100),(55,5),(40,5)]\n",
    "\n",
    "# another contour, a simple one\n",
    "avcont=pplot.Contour(model.AV,[1.0],colors=\"black\")\n",
    "\n",
    "cbticks=[1e-15,1e-13,1e-11,1e-9,1e-7,1e-5,1e-3]\n",
    "_ = pp.plot_abuncont(model, species='H2O',label=r\"$\\mathrm{\\epsilon_{H2O}}$\",zr=True,xlog=True,\n",
    "                ylim=[0,0.5], zlim=[1e-15,1e-3],extend=\"both\",\n",
    "                oconts=[tcont,avcont],   # here the addtional contour added\n",
    "                contour=False,           # switch of the standard contours\n",
    "                clevels=cbticks,         # explictly set ticks for the cbar\n",
    "                clabels=map(str,cbticks),# and make some nice labels\n",
    "                cb_format=\"%.0e\",\n",
    "                ax=ax,fig=fig)"
   ],
   "outputs": [],
   "execution_count": null
  },
  {
   "cell_type": "markdown",
   "id": "0a9a5807",
   "metadata": {},
   "source": [
    "# About molecular emission"
   ]
  },
  {
   "cell_type": "markdown",
   "id": "facac8fb",
   "metadata": {},
   "source": [
    "Molecules emit when they de-excite from a higher energy state to a lower energy state. The model includes several molecules (also atomic species). We can produce the synthetic spectra of their emission.<br>\n",
    "\n",
    "For example, let us make a $\\rm CO_2$ spectrum. We use the <code>.gen_specFromLineEstimates</code> method to calculate the spectrum.<br>\n",
    "\n",
    "\n",
    "\n"
   ]
  },
  {
   "cell_type": "code",
   "id": "a82deae5",
   "metadata": {},
   "source": [
    "help(model.gen_specFromLineEstimates)"
   ],
   "outputs": [],
   "execution_count": null
  },
  {
   "cell_type": "code",
   "id": "b36b22a8",
   "metadata": {},
   "source": [
    "co2_spectrum = model.gen_specFromLineEstimates(wlrange=[12.5, 17.5], ident='CO2_H', specR=3000, unit='Jy', contOnly=False, noCont=True)"
   ],
   "outputs": [],
   "execution_count": null
  },
  {
   "cell_type": "code",
   "id": "81d33865",
   "metadata": {},
   "source": [
    "fig,ax = plt.subplots(figsize=(10,3))\n",
    "ax.plot(co2_spectrum[0],co2_spectrum[1])\n",
    "ax.set_ylabel('Flux [Jy]')\n",
    "ax.set_xlabel(r'Wavelength [$\\mu$m]')"
   ],
   "outputs": [],
   "execution_count": null
  },
  {
   "cell_type": "markdown",
   "id": "3e81eab9",
   "metadata": {},
   "source": [
    "You can also check the physical location in the disk from where majority of the emission of that molecule arises from."
   ]
  },
  {
   "cell_type": "code",
   "id": "2fcb2768",
   "metadata": {},
   "source": [
    "def get_line_emitting_area(model,lineIdents,color='red',linestyle='-',linewidth=1.5,zorder=100):\n",
    "    lestimates=list()\n",
    "    patches=list()\n",
    "    ibox=0\n",
    "    if (type(lineIdents[0])==str): lineIdents=[lineIdents]\n",
    "    for id in lineIdents:\n",
    "        lestimates.append(model.getLineEstimate(id[0],id[1]))\n",
    "\n",
    "    for lesti in lestimates:\n",
    "        # to be consistent we use the LineOriginMask to determine the box\n",
    "        # as a result the plotted region is not necessarely the same as in idl\n",
    "        # as we do not interpolate here\n",
    "        xmasked=np.ma.masked_array(model.x,mask=model.getLineOriginMask(lesti))\n",
    "        x15=np.min(xmasked)\n",
    "        x85=np.max(xmasked)\n",
    "        xi15=np.argmin(np.abs(model.x[:,0]-x15))\n",
    "        xi85=np.argmin(np.abs(model.x[:,0]-x85))\n",
    "\n",
    "        z85s=[[model.x[rp.ix,0],rp.z85] for rp in lesti.rInfo[xi15:xi85+1]]\n",
    "        z15s=[[model.x[rp.ix,0],rp.z15] for rp in lesti.rInfo[xi85:xi15-1:-1]]\n",
    "        points=z85s+z15s\n",
    "\n",
    "    #     if zr is True:\n",
    "        for point in points:\n",
    "            point[1]=point[1]/point[0]\n",
    "\n",
    "    #     if showBox:\n",
    "        if len(points)>1:\n",
    "            patch=mpl.patches.Polygon(points,closed=True,fill=False,color=color,\n",
    "                                      linestyle=linestyle,\n",
    "                                      zorder=zorder,linewidth=linewidth)\n",
    "            patches.append(patch)\n",
    "        else:\n",
    "            print(\"WARN: Unable to calculate a proper region for the line origin: \"+str(lesti))\n",
    "    return(patches)"
   ],
   "outputs": [],
   "execution_count": null
  },
  {
   "cell_type": "code",
   "id": "baf571f2",
   "metadata": {},
   "source": [
    "fig,ax = plt.subplots()\n",
    "pp=pplot.Plot(None)\n",
    "\n",
    "tcont=pplot.Contour(model.tg, [20,100,1000], linestyles=[\"-\",\"--\",\":\"],\n",
    "                  showlabels=True,label_fontsize=10,label_fmt=\"%.0f\")\n",
    "#tcont.label_locations=[(100,100),(55,5),(40,5)]\n",
    "\n",
    "# another contour, a simple one\n",
    "avcont=pplot.Contour(model.AV,[1.0],colors=\"black\")\n",
    "\n",
    "cbticks=[1e-15,1e-13,1e-11,1e-9,1e-7,1e-5,1e-3]\n",
    "_ = pp.plot_abuncont(model, species='CO2',label=r\"$\\mathrm{\\epsilon_{CO2}}$\",zr=True,xlog=True,\n",
    "                ylim=[0,0.5], zlim=[1e-15,1e-3],extend=\"both\",\n",
    "                oconts=[tcont,avcont],   # here the addtional contour added\n",
    "                contour=False,           # switch of the standard contours\n",
    "                clevels=cbticks,         # explictly set ticks for the cbar\n",
    "                clabels=map(str,cbticks),# and make some nice labels\n",
    "                cb_format=\"%.0e\",\n",
    "                ax=ax,fig=fig)\n",
    "\n",
    "for patch in get_line_emitting_area(model,['CO2_H',14.9807],color='red',linewidth=0.5):\n",
    "    ax.add_patch(patch)"
   ],
   "outputs": [],
   "execution_count": null
  },
  {
   "cell_type": "markdown",
   "id": "1d52344b",
   "metadata": {},
   "source": [
    "The above spectrum is estimated using escape probability. i.e., instead of a full 3D line radiative transfer solution, a simplified technique by estimating the probability of escape of a released photon is used. This is just an estimate and not the accurate solution (although it is to a certain level accurate enough).<br>\n",
    "\n",
    "I have run <a href='https://github.com/michielmin/FLiTs'>FLiTs</a> (which is a full 3D line ray tracing code) including many molecules (not a separate spectrum for each molecule). This can be accessed by <code>.FLiTsSpec</code>.\n"
   ]
  },
  {
   "cell_type": "code",
   "id": "10a6bddc",
   "metadata": {},
   "source": [
    "fig,ax = plt.subplots(figsize=(10,3))\n",
    "ax.plot(model.FLiTsSpec.wl,model.FLiTsSpec.flux)\n",
    "ax.set_ylabel('Flux [Jy]')\n",
    "ax.set_xlabel(r'Wavelength [$\\mu$m]')"
   ],
   "outputs": [],
   "execution_count": null
  },
  {
   "cell_type": "markdown",
   "id": "2e3f02c0",
   "metadata": {},
   "source": [
    "Note that this also includes the dust continuum. To remove that and just look at the molecular emission, subtract the dust continuum estimate from FLiTs."
   ]
  },
  {
   "cell_type": "code",
   "id": "a28e37d6",
   "metadata": {},
   "source": [
    "fig,ax = plt.subplots(figsize=(10,3))\n",
    "ax.plot(model.FLiTsSpec.wl,model.FLiTsSpec.flux - model.FLiTsSpec.flux_cont)\n",
    "ax.set_ylabel('Flux [Jy]')\n",
    "ax.set_xlabel(r'Wavelength [$\\mu$m]')"
   ],
   "outputs": [],
   "execution_count": null
  },
  {
   "cell_type": "code",
   "id": "cb23a669",
   "metadata": {},
   "source": [],
   "outputs": [],
   "execution_count": null
  }
 ],
 "metadata": {
  "@webio": {
   "lastCommId": null,
   "lastKernelId": null
  },
  "kernelspec": {
   "display_name": "Python 3 (ipykernel)",
   "language": "python",
   "name": "python3"
  },
  "language_info": {
   "codemirror_mode": {
    "name": "ipython",
    "version": 3
   },
   "file_extension": ".py",
   "mimetype": "text/x-python",
   "name": "python",
   "nbconvert_exporter": "python",
   "pygments_lexer": "ipython3",
   "version": "3.10.14"
  }
 },
 "nbformat": 4,
 "nbformat_minor": 5
}
