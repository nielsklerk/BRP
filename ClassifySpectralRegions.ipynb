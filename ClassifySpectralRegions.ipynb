{
 "cells": [
  {
   "cell_type": "code",
   "id": "initial_id",
   "metadata": {
    "collapsed": true,
    "ExecuteTime": {
     "end_time": "2025-06-04T21:11:08.834392Z",
     "start_time": "2025-06-04T21:11:07.423162Z"
    }
   },
   "source": [
    "import pandas as pd\n",
    "import numpy as np\n",
    "import matplotlib.pyplot as plt\n",
    "import matplotlib as mpl\n",
    "import pickle\n",
    "from scipy.constants import c as speed_of_light\n",
    "from tqdm import tqdm\n",
    "from numba import njit, jit, prange\n",
    "from numba.typed import List\n",
    "import time\n",
    "from scipy.stats import mode\n",
    "from numba.typed import List"
   ],
   "outputs": [],
   "execution_count": 1
  },
  {
   "metadata": {
    "ExecuteTime": {
     "end_time": "2025-06-04T21:11:09.121495Z",
     "start_time": "2025-06-04T21:11:09.114218Z"
    }
   },
   "cell_type": "code",
   "source": [
    "@njit\n",
    "def calc_flux(wl, flux, wlrange):\n",
    "    \"\"\"\n",
    "    Calculates the flux of a flux density in Jy over a range of wavelengths in microns\n",
    "    \"\"\"\n",
    "    mask = (wl >= wlrange[0]) & (wl <= wlrange[1])\n",
    "    return total_flux(wl[mask], flux[mask])\n",
    "\n",
    "\n",
    "@njit\n",
    "def total_flux(wl, flux_nu):\n",
    "    \"\"\"\n",
    "    Calculate the total flux over the wavelengths and returns the flux in erg cm^-2 s^-1\n",
    "    \"\"\"\n",
    "    if wl.size == 0:\n",
    "        return 0\n",
    "    flux_lambda = (speed_of_light * 100 / (wl * 1e-4) ** 2) * flux_nu * 1e-23\n",
    "    tot_flux = np.trapezoid(flux_lambda, (wl * 1e-4))\n",
    "    return tot_flux\n",
    "\n",
    "\n",
    "def compress_to_numpy(model_names, species, df):\n",
    "    dim1 = len(model_names)\n",
    "    dim2 = len(species)\n",
    "\n",
    "    arr = []\n",
    "\n",
    "    for i, model_name in enumerate(model_names):\n",
    "        row = []\n",
    "        for j, species_name in enumerate(species):\n",
    "            wavelength = df.loc[df['Model Name'] == model_name, f'FLiTs {species_name} Wavelength'].values[0]\n",
    "            flux = df.loc[df['Model Name'] == model_name, f'FLiTs {species_name} Flux'].values[0]\n",
    "            row.append((wavelength, flux))\n",
    "        arr.append(row)\n",
    "\n",
    "    numba_list = List()\n",
    "    for row in arr:\n",
    "        numba_row = List()\n",
    "        for item in row:\n",
    "            numba_row.append(item)\n",
    "        numba_list.append(numba_row)\n",
    "\n",
    "    return numba_list\n",
    "\n",
    "\n",
    "@njit(parallel=True)\n",
    "def spectral_window(min_wl, max_wl, window_size, arr, min_flux):\n",
    "    windows_array = np.arange(min_wl, max_wl, window_size)\n",
    "    num_models = len(arr)\n",
    "    num_windows = len(windows_array)\n",
    "\n",
    "    dom = np.full((num_models, num_windows), -1, dtype=np.int32)\n",
    "\n",
    "    # Parallelize the outer loop using prange\n",
    "    for i in prange(num_models):\n",
    "        for index_window in range(num_windows):\n",
    "            window_start = windows_array[index_window]\n",
    "            window_end = window_start + window_size\n",
    "\n",
    "            max_flux = total_flux(np.linspace(window_start, window_end, 2), min_flux)\n",
    "            dominant_specie_index = -1\n",
    "\n",
    "            for j in range(len(arr[i])):\n",
    "                wavelength, flux = arr[i][j]\n",
    "\n",
    "                flux_value = calc_flux(wavelength, flux, [window_start, window_end])\n",
    "                if flux_value > max_flux:\n",
    "                    max_flux = flux_value\n",
    "                    dominant_specie_index = j\n",
    "\n",
    "            dom[i, index_window] = dominant_specie_index\n",
    "\n",
    "    return windows_array, dom"
   ],
   "id": "9340cb0856308f3a",
   "outputs": [],
   "execution_count": 2
  },
  {
   "metadata": {
    "ExecuteTime": {
     "end_time": "2025-06-04T21:11:11.599776Z",
     "start_time": "2025-06-04T21:11:10.934732Z"
    }
   },
   "cell_type": "code",
   "source": [
    "# Open the data \n",
    "with open('FLiTsData1000_N.pkl', 'rb') as f:\n",
    "    df = pickle.load(f)\n",
    "# df.head()"
   ],
   "id": "4caa3fd110f487a6",
   "outputs": [],
   "execution_count": 3
  },
  {
   "metadata": {
    "ExecuteTime": {
     "end_time": "2025-06-04T21:11:13.057679Z",
     "start_time": "2025-06-04T21:11:13.055372Z"
    }
   },
   "cell_type": "code",
   "source": [
    "color = {'atomic': 'tomato', 'C2H2': 'yellow', 'CH4': 'mediumorchid', 'CO': 'red', 'CO2': 'limegreen', 'H2O': 'dodgerblue',\n",
    "          'HCN': 'orange', 'NH3': 'cyan', 'NO': 'gold', 'OH': 'magenta'}"
   ],
   "id": "c265eb5824652b27",
   "outputs": [],
   "execution_count": 4
  },
  {
   "metadata": {
    "ExecuteTime": {
     "end_time": "2025-06-04T21:11:48.603598Z",
     "start_time": "2025-06-04T21:11:29.971617Z"
    }
   },
   "cell_type": "code",
   "source": [
    "df['CO Value'] = pd.to_numeric(df['CO Value'], errors=\"coerce\")\n",
    "model_names = np.array(df.loc[df['CO Value']>1, 'Model Name'].values)\n",
    "print(model_names)\n",
    "species = ['atomic', 'C2H2', 'CH4', 'CO', 'CO2', 'H2O', 'HCN', 'NH3', 'NO', 'O2', 'OH']\n",
    "min_wl = 4.9\n",
    "max_wl = 28.1\n",
    "window_size = .01\n",
    "\n",
    "arr = compress_to_numpy(model_names, species, df)\n",
    "windows, dominant = spectral_window(min_wl, max_wl, window_size, arr, 1e-5)"
   ],
   "id": "f1bad1646221c73f",
   "outputs": [
    {
     "name": "stdout",
     "output_type": "stream",
     "text": [
      "['C_0.0_O_-0.5_CO_1.445' 'C_0.25_O_-0.5_CO_2.570'\n",
      " 'C_0.25_O_-0.25_CO_1.445' 'C_0.5_O_-0.5_CO_4.57' 'C_0.5_O_-0.25_CO_2.570'\n",
      " 'C_0.5_O_0.0_CO_1.445']\n"
     ]
    },
    {
     "name": "stderr",
     "output_type": "stream",
     "text": [
      "C:\\Users\\Niels de Klerk\\AppData\\Local\\Temp\\ipykernel_3524\\1880555984.py:63: NumbaTypeSafetyWarning: \u001B[1m\u001B[1m\u001B[1munsafe cast from uint64 to int64. Precision may be lost.\u001B[0m\u001B[0m\u001B[0m\n",
      "  for j in range(len(arr[i])):\n"
     ]
    }
   ],
   "execution_count": 5
  },
  {
   "metadata": {
    "ExecuteTime": {
     "end_time": "2025-06-04T21:11:53.901043Z",
     "start_time": "2025-06-04T21:11:53.368442Z"
    }
   },
   "cell_type": "code",
   "source": [
    "majority_values = mode(dominant, axis=0).mode\n",
    "colors = plt.colormaps[\"tab10\"].colors[:len(np.unique(majority_values))]\n",
    "name_colors = dict(zip(np.unique(majority_values), colors))\n",
    "new_species = species + ['Different']\n",
    "\n",
    "plt.figure(figsize=(10, 5))\n",
    "for i in range(len(windows)):\n",
    "    if new_species[majority_values[i]] in ['NO', 'NH3']:\n",
    "        plt.bar(windows[i], 1, width=window_size, color=color[new_species[majority_values[i]]], label=new_species[majority_values[i]])\n",
    "\n",
    "handles, labels = plt.gca().get_legend_handles_labels()\n",
    "unique_labels = dict(zip(labels, handles))\n",
    "plt.legend(unique_labels.values(), unique_labels.keys())\n",
    "plt.xlabel(r'Wavelength ($\\mu$m)')\n",
    "plt.yticks([])\n",
    "plt.title('C/O>1')\n",
    "# plt.xlim(4.9, 6.5)\n",
    "plt.savefig('Figures/ClassificationCOgt0.pdf', bbox_inches='tight', dpi=600)\n",
    "plt.show()"
   ],
   "id": "94a86db4c48aa1b7",
   "outputs": [
    {
     "data": {
      "text/plain": [
       "<Figure size 1000x500 with 1 Axes>"
      ],
      "image/png": "[encoded data removed]"
     },
     "metadata": {},
     "output_type": "display_data"
    }
   ],
   "execution_count": 6
  },
  {
   "metadata": {
    "ExecuteTime": {
     "end_time": "2025-06-04T21:12:29.519067Z",
     "start_time": "2025-06-04T21:12:02.958312Z"
    }
   },
   "cell_type": "code",
   "source": [
    "df['CO Value'] = pd.to_numeric(df['CO Value'], errors=\"coerce\")\n",
    "model_names = np.array(df.loc[df['CO Value']<1, 'Model Name'].values)\n",
    "print(model_names)\n",
    "species = ['atomic', 'C2H2', 'CH4', 'CO', 'CO2', 'H2O', 'HCN', 'NH3', 'NO', 'O2', 'OH']\n",
    "min_wl = 4.9\n",
    "max_wl = 28.1\n",
    "window_size = .01\n",
    "\n",
    "arr = compress_to_numpy(model_names, species, df)\n",
    "new_windows, new_dominant = spectral_window(min_wl, max_wl, window_size, arr, 1e-5)"
   ],
   "id": "10ffe885255cc427",
   "outputs": [
    {
     "name": "stdout",
     "output_type": "stream",
     "text": [
      "['C_-0.5_O_-0.5_CO_0.45' 'C_-0.5_O_-0.25_CO_0.2570'\n",
      " 'C_-0.5_O_0.0_CO_0.145' 'C_-0.5_O_0.25_CO_0.0813' 'C_-0.5_O_0.5_CO_0.045'\n",
      " 'C_-0.25_O_-0.5_CO_0.813' 'C_-0.25_O_-0.25_CO_0.45'\n",
      " 'C_-0.25_O_0.0_CO_0.257' 'C_-0.25_O_0.25_CO_0.145'\n",
      " 'C_-0.25_O_0.5_CO_0.0813' 'C_0.0_O_-0.25_CO_0.813' 'C_0.0_O_0.0_CO_0.45'\n",
      " 'C_0.0_O_0.25_CO_0.257' 'C_0.0_O_0.5_CO_0.145' 'C_0.25_O_0.0_CO_0.813'\n",
      " 'C_0.25_O_0.25_CO_0.45' 'C_0.25_O_0.5_CO_0.2570' 'C_0.5_O_0.25_CO_0.813'\n",
      " 'C_0.5_O_0.5_CO_0.45']\n"
     ]
    }
   ],
   "execution_count": 7
  },
  {
   "metadata": {
    "ExecuteTime": {
     "end_time": "2025-06-04T21:12:34.859999Z",
     "start_time": "2025-06-04T21:12:34.639455Z"
    }
   },
   "cell_type": "code",
   "source": [
    "majority_values = mode(new_dominant, axis=0).mode\n",
    "colors = plt.colormaps[\"tab10\"].colors[:len(np.unique(majority_values))]\n",
    "name_colors = dict(zip(np.unique(majority_values), colors))\n",
    "new_species = species + ['Different']\n",
    "\n",
    "plt.figure(figsize=(10, 5))\n",
    "for i in range(len(new_windows)):\n",
    "    if new_species[majority_values[i]] in ['NO', 'NH3']:\n",
    "        # print(windows[i], new_species[majority_values[i]])\n",
    "        plt.bar(windows[i], 1, width=window_size, color=color[new_species[majority_values[i]]], label=new_species[majority_values[i]])\n",
    "\n",
    "handles, labels = plt.gca().get_legend_handles_labels()\n",
    "unique_labels = dict(zip(labels, handles))\n",
    "plt.legend(unique_labels.values(), unique_labels.keys())\n",
    "plt.xlabel(r'Wavelength ($\\mu$m)')\n",
    "plt.yticks([])\n",
    "plt.title('C/O<1')\n",
    "# plt.xlim(18, 20.1)\n",
    "plt.savefig('Figures/ClassificationCOst0.pdf', bbox_inches='tight', dpi=600)\n",
    "plt.show()"
   ],
   "id": "dbe2d29fa20d8243",
   "outputs": [
    {
     "data": {
      "text/plain": [
       "<Figure size 1000x500 with 1 Axes>"
      ],
      "image/png": "[encoded data removed]"
     },
     "metadata": {},
     "output_type": "display_data"
    }
   ],
   "execution_count": 8
  },
  {
   "metadata": {
    "ExecuteTime": {
     "end_time": "2025-06-04T21:12:47.192071Z",
     "start_time": "2025-06-04T21:12:47.189691Z"
    }
   },
   "cell_type": "code",
   "source": "plt.rcParams.update({'font.size': 14})",
   "id": "c3cf3c193fac64c6",
   "outputs": [],
   "execution_count": 9
  },
  {
   "metadata": {
    "ExecuteTime": {
     "end_time": "2025-06-04T21:18:41.447037Z",
     "start_time": "2025-06-04T21:18:40.717250Z"
    }
   },
   "cell_type": "code",
   "source": [
    "majority_values_1 = mode(dominant, axis=0).mode\n",
    "majority_values_2 = mode(new_dominant, axis=0).mode\n",
    "\n",
    "# colors = plt.colormaps[\"tab10\"].colors\n",
    "new_species = species + ['Different']\n",
    "\n",
    "# Create color dictionary\n",
    "unique_species = np.unique(np.concatenate([majority_values_1, majority_values_2]))\n",
    "# name_colors = dict(zip(unique_species, colors[:len(unique_species)]))\n",
    "# color = {new_species[i]: name_colors[i] for i in unique_species}\n",
    "\n",
    "# Set up vertically stacked subplots\n",
    "fig, axs = plt.subplots(2, 1, figsize=(12, 6), sharex=True)\n",
    "\n",
    "# --- Top plot: C/O > 1 ---\n",
    "ax = axs[0]\n",
    "for i in range(len(windows)):\n",
    "    sp = new_species[majority_values_1[i]]\n",
    "    if sp in ['NO', 'NH3']:\n",
    "        ax.bar(windows[i], 1, width=window_size, color=color[sp], label=sp)\n",
    "\n",
    "handles, labels = ax.get_legend_handles_labels()\n",
    "unique_labels = dict(zip(labels, handles))\n",
    "ax.legend(unique_labels.values(), unique_labels.keys())\n",
    "ax.set_ylabel('C/O > 1')\n",
    "ax.set_yticks([])\n",
    "# ax.set_title('Dominant Molecules by Wavelength')\n",
    "\n",
    "# --- Bottom plot: C/O < 1 ---\n",
    "ax = axs[1]\n",
    "for i in range(len(new_windows)):\n",
    "    sp = new_species[majority_values_2[i]]\n",
    "    if sp in ['NO', 'NH3']:\n",
    "        ax.bar(windows[i], 1, width=window_size, color=color[sp], label=sp)\n",
    "\n",
    "handles, labels = ax.get_legend_handles_labels()\n",
    "unique_labels = dict(zip(labels, handles))\n",
    "ax.legend(unique_labels.values(), unique_labels.keys())\n",
    "ax.set_ylabel('C/O < 1')\n",
    "ax.set_yticks([])\n",
    "ax.set_xlabel(r'Wavelength ($\\mu$m)')\n",
    "# ax.set_xlim(4.8, 14.1)\n",
    "plt.tight_layout()\n",
    "plt.savefig('Figures/ClassificationCO.pdf', bbox_inches='tight', dpi=600)\n",
    "plt.show()"
   ],
   "id": "468e2b5138be494",
   "outputs": [
    {
     "data": {
      "text/plain": [
       "<Figure size 1200x600 with 2 Axes>"
      ],
      "image/png": "[encoded data removed]"
     },
     "metadata": {},
     "output_type": "display_data"
    }
   ],
   "execution_count": 11
  }
 ],
 "metadata": {
  "kernelspec": {
   "display_name": "Python 3 (ipykernel)",
   "language": "python",
   "name": "python3"
  },
  "language_info": {
   "codemirror_mode": {
    "name": "ipython",
    "version": 2
   },
   "file_extension": ".py",
   "mimetype": "text/x-python",
   "name": "python",
   "nbconvert_exporter": "python",
   "pygments_lexer": "ipython2",
   "version": "2.7.6"
  }
 },
 "nbformat": 4,
 "nbformat_minor": 5
}
