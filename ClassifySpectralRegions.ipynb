{
 "cells": [
  {
   "cell_type": "code",
   "id": "initial_id",
   "metadata": {
    "collapsed": true,
    "ExecuteTime": {
     "end_time": "2025-04-02T21:03:38.371268Z",
     "start_time": "2025-04-02T21:03:36.823916Z"
    }
   },
   "source": [
    "import pandas as pd\n",
    "import numpy as np\n",
    "import matplotlib.pyplot as plt\n",
    "import matplotlib as mpl\n",
    "import pickle\n",
    "from scipy.constants import c as speed_of_light\n",
    "from tqdm import tqdm\n",
    "from numba import njit, jit, prange\n",
    "from numba.typed import List\n",
    "import time\n",
    "from scipy.stats import mode\n",
    "from numba.typed import List"
   ],
   "outputs": [],
   "execution_count": 2
  },
  {
   "metadata": {
    "ExecuteTime": {
     "end_time": "2025-04-02T21:03:38.382162Z",
     "start_time": "2025-04-02T21:03:38.375543Z"
    }
   },
   "cell_type": "code",
   "source": [
    "@njit\n",
    "def calc_flux(wl, flux, wlrange):\n",
    "    \"\"\"\n",
    "    Calculates the flux of a flux density in Jy over a range of wavelengths in microns\n",
    "    \"\"\"\n",
    "    mask = (wl >= wlrange[0]) & (wl <= wlrange[1])\n",
    "    return total_flux(wl[mask], flux[mask])\n",
    "\n",
    "\n",
    "@njit\n",
    "def total_flux(wl, flux_nu):\n",
    "    \"\"\"\n",
    "    Calculate the total flux over the wavelengths and returns the flux in erg cm^-2 s^-1\n",
    "    \"\"\"\n",
    "    if wl.size == 0:\n",
    "        return 0\n",
    "    flux_lambda = (speed_of_light * 100 / (wl * 1e-4) ** 2) * flux_nu * 1e-23\n",
    "    tot_flux = np.trapezoid(flux_lambda, (wl * 1e-4))\n",
    "    return tot_flux\n",
    "\n",
    "\n",
    "def compress_to_numpy(model_names, species, df):\n",
    "    dim1 = len(model_names)\n",
    "    dim2 = len(species)\n",
    "\n",
    "    arr = []\n",
    "\n",
    "    for i, model_name in enumerate(model_names):\n",
    "        row = []\n",
    "        for j, species_name in enumerate(species):\n",
    "            wavelength = df.loc[df['Model Name'] == model_name, f'FLiTs {species_name} Wavelength'].values[0]\n",
    "            flux = df.loc[df['Model Name'] == model_name, f'FLiTs {species_name} Flux'].values[0]\n",
    "            row.append((wavelength, flux))\n",
    "        arr.append(row)\n",
    "\n",
    "    numba_list = List()\n",
    "    for row in arr:\n",
    "        numba_row = List()\n",
    "        for item in row:\n",
    "            numba_row.append(item)\n",
    "        numba_list.append(numba_row)\n",
    "\n",
    "    return numba_list\n",
    "\n",
    "\n",
    "@njit(parallel=True, fastmath=True)\n",
    "def spectral_window(min_wl, max_wl, window_size, arr):\n",
    "    windows_array = np.arange(min_wl, max_wl, window_size)\n",
    "    num_models = len(arr)\n",
    "    num_windows = len(windows_array)\n",
    "\n",
    "    dom = np.full((num_models, num_windows), -1, dtype=np.int32)\n",
    "\n",
    "    # Parallelize the outer loop using prange\n",
    "    for i in prange(num_models):\n",
    "        for index_window in range(num_windows):\n",
    "            window_start = windows_array[index_window]\n",
    "            window_end = window_start + window_size\n",
    "\n",
    "            max_flux = -np.inf\n",
    "            dominant_specie_index = -1\n",
    "\n",
    "            for j in range(len(arr[i])):\n",
    "                wavelength, flux = arr[i][j]\n",
    "\n",
    "                flux_value = calc_flux(wavelength, flux, [window_start, window_end])\n",
    "\n",
    "                if flux_value > max_flux:\n",
    "                    max_flux = flux_value\n",
    "                    dominant_specie_index = j\n",
    "\n",
    "            dom[i, index_window] = dominant_specie_index\n",
    "\n",
    "    return windows_array, dom"
   ],
   "id": "9340cb0856308f3a",
   "outputs": [],
   "execution_count": 3
  },
  {
   "metadata": {
    "ExecuteTime": {
     "end_time": "2025-04-02T21:03:38.963237Z",
     "start_time": "2025-04-02T21:03:38.393182Z"
    }
   },
   "cell_type": "code",
   "source": [
    "# Open the data \n",
    "with open('FLiTsData1000.pkl', 'rb') as f:\n",
    "    df = pickle.load(f)\n",
    "# df.head()"
   ],
   "id": "4caa3fd110f487a6",
   "outputs": [],
   "execution_count": 4
  },
  {
   "metadata": {
    "ExecuteTime": {
     "end_time": "2025-04-02T21:04:20.638986Z",
     "start_time": "2025-04-02T21:03:38.987309Z"
    }
   },
   "cell_type": "code",
   "source": [
    "model_names = np.array(df['Model Name'])\n",
    "species = ['atomic', 'CH4', 'CO', 'CO2', 'H2O', 'HCN', 'NH3', 'NO', 'O2', 'OH']\n",
    "min_wl = 4.9\n",
    "max_wl = 28.6\n",
    "window_size = .01\n",
    "\n",
    "arr = compress_to_numpy(model_names, species, df)\n",
    "start_time = time.time()\n",
    "windows, dominant = spectral_window(min_wl, max_wl, window_size, arr)\n",
    "end_time = time.time()\n",
    "print(f'time taken for computation:{end_time - start_time:.1f}')"
   ],
   "id": "f1bad1646221c73f",
   "outputs": [
    {
     "name": "stderr",
     "output_type": "stream",
     "text": [
      "C:\\Users\\Niels de Klerk\\AppData\\Local\\Temp\\ipykernel_5048\\2986252985.py:63: NumbaTypeSafetyWarning: \u001B[1m\u001B[1m\u001B[1munsafe cast from uint64 to int64. Precision may be lost.\u001B[0m\u001B[0m\u001B[0m\n",
      "  for j in range(len(arr[i])):\n"
     ]
    },
    {
     "name": "stdout",
     "output_type": "stream",
     "text": [
      "time taken for computation:40.9\n"
     ]
    }
   ],
   "execution_count": 5
  },
  {
   "metadata": {
    "ExecuteTime": {
     "end_time": "2025-04-02T21:05:15.866140Z",
     "start_time": "2025-04-02T21:05:12.263902Z"
    }
   },
   "cell_type": "code",
   "source": [
    "majority_values = mode(dominant, axis=0).mode\n",
    "print([species[i] for i in np.unique(majority_values)])\n",
    "colors = plt.colormaps[\"tab10\"].colors[:len(np.unique(majority_values))]\n",
    "name_colors = dict(zip(np.unique(majority_values), colors))\n",
    "new_species = species + ['Different']\n",
    "\n",
    "plt.figure(figsize=(10, 5))\n",
    "for i in range(len(windows)):\n",
    "    if new_species[majority_values[i]] != 'NH3':\n",
    "        plt.bar(windows[i], 1, width=window_size, color=name_colors[majority_values[i]], label=new_species[majority_values[i]])\n",
    "\n",
    "handles, labels = plt.gca().get_legend_handles_labels()\n",
    "unique_labels = dict(zip(labels, handles))\n",
    "plt.legend(unique_labels.values(), unique_labels.keys())\n",
    "plt.xlabel(r'Wavelength ($\\mu$m)')\n",
    "plt.yticks([])\n",
    "\n",
    "# plt.xlim(4.9, 5.2)\n",
    "plt.savefig('Spectral_regions.pdf')\n",
    "plt.show()"
   ],
   "id": "94a86db4c48aa1b7",
   "outputs": [
    {
     "name": "stdout",
     "output_type": "stream",
     "text": [
      "['atomic', 'CO', 'CO2', 'H2O', 'HCN', 'NH3', 'OH']\n"
     ]
    },
    {
     "data": {
      "text/plain": [
       "<Figure size 1000x500 with 1 Axes>"
      ],
      "image/png": "[encoded data removed]"
     },
     "metadata": {},
     "output_type": "display_data"
    }
   ],
   "execution_count": 8
  }
 ],
 "metadata": {
  "kernelspec": {
   "display_name": "Python 3 (ipykernel)",
   "language": "python",
   "name": "python3"
  },
  "language_info": {
   "codemirror_mode": {
    "name": "ipython",
    "version": 2
   },
   "file_extension": ".py",
   "mimetype": "text/x-python",
   "name": "python",
   "nbconvert_exporter": "python",
   "pygments_lexer": "ipython2",
   "version": "2.7.6"
  }
 },
 "nbformat": 4,
 "nbformat_minor": 5
}
