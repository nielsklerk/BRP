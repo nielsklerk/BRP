{
 "cells": [
  {
   "cell_type": "code",
   "id": "initial_id",
   "metadata": {
    "collapsed": true,
    "ExecuteTime": {
     "end_time": "2025-04-05T15:29:54.522457Z",
     "start_time": "2025-04-05T15:29:52.729840Z"
    }
   },
   "source": [
    "import pandas as pd\n",
    "import numpy as np\n",
    "import matplotlib.pyplot as plt\n",
    "import matplotlib as mpl\n",
    "import pickle\n",
    "from scipy.constants import c as speed_of_light\n",
    "from tqdm import tqdm\n",
    "from numba import njit, jit, prange\n",
    "from numba.typed import List\n",
    "import time\n",
    "from scipy.stats import mode\n",
    "from numba.typed import List"
   ],
   "outputs": [],
   "execution_count": 1
  },
  {
   "metadata": {
    "ExecuteTime": {
     "end_time": "2025-04-05T15:31:53.727719Z",
     "start_time": "2025-04-05T15:31:53.721095Z"
    }
   },
   "cell_type": "code",
   "source": [
    "@njit\n",
    "def calc_flux(wl, flux, wlrange):\n",
    "    \"\"\"\n",
    "    Calculates the flux of a flux density in Jy over a range of wavelengths in microns\n",
    "    \"\"\"\n",
    "    mask = (wl >= wlrange[0]) & (wl <= wlrange[1])\n",
    "    return total_flux(wl[mask], flux[mask])\n",
    "\n",
    "\n",
    "@njit\n",
    "def total_flux(wl, flux_nu):\n",
    "    \"\"\"\n",
    "    Calculate the total flux over the wavelengths and returns the flux in erg cm^-2 s^-1\n",
    "    \"\"\"\n",
    "    if wl.size == 0:\n",
    "        return 0\n",
    "    flux_lambda = (speed_of_light * 100 / (wl * 1e-4) ** 2) * flux_nu * 1e-23\n",
    "    tot_flux = np.trapezoid(flux_lambda, (wl * 1e-4))\n",
    "    return tot_flux\n",
    "\n",
    "\n",
    "def compress_to_numpy(model_names, species, df):\n",
    "    dim1 = len(model_names)\n",
    "    dim2 = len(species)\n",
    "\n",
    "    arr = []\n",
    "\n",
    "    for i, model_name in enumerate(model_names):\n",
    "        row = []\n",
    "        for j, species_name in enumerate(species):\n",
    "            wavelength = df.loc[df['Model Name'] == model_name, f'FLiTs {species_name} Wavelength'].values[0]\n",
    "            flux = df.loc[df['Model Name'] == model_name, f'FLiTs {species_name} Flux'].values[0]\n",
    "            row.append((wavelength, flux))\n",
    "        arr.append(row)\n",
    "\n",
    "    numba_list = List()\n",
    "    for row in arr:\n",
    "        numba_row = List()\n",
    "        for item in row:\n",
    "            numba_row.append(item)\n",
    "        numba_list.append(numba_row)\n",
    "\n",
    "    return numba_list\n",
    "\n",
    "\n",
    "@njit(parallel=True)\n",
    "def spectral_window(min_wl, max_wl, window_size, arr, min_flux):\n",
    "    windows_array = np.arange(min_wl, max_wl, window_size)\n",
    "    num_models = len(arr)\n",
    "    num_windows = len(windows_array)\n",
    "\n",
    "    dom = np.full((num_models, num_windows), -1, dtype=np.int32)\n",
    "\n",
    "    # Parallelize the outer loop using prange\n",
    "    for i in prange(num_models):\n",
    "        for index_window in range(num_windows):\n",
    "            window_start = windows_array[index_window]\n",
    "            window_end = window_start + window_size\n",
    "\n",
    "            max_flux = total_flux(np.linspace(window_start, window_end, 2), min_flux)\n",
    "            dominant_specie_index = -1\n",
    "\n",
    "            for j in range(len(arr[i])):\n",
    "                wavelength, flux = arr[i][j]\n",
    "\n",
    "                flux_value = calc_flux(wavelength, flux, [window_start, window_end])\n",
    "                if flux_value > max_flux:\n",
    "                    max_flux = flux_value\n",
    "                    dominant_specie_index = j\n",
    "\n",
    "            dom[i, index_window] = dominant_specie_index\n",
    "\n",
    "    return windows_array, dom"
   ],
   "id": "9340cb0856308f3a",
   "outputs": [],
   "execution_count": 9
  },
  {
   "metadata": {
    "ExecuteTime": {
     "end_time": "2025-04-05T15:29:55.587646Z",
     "start_time": "2025-04-05T15:29:54.662360Z"
    }
   },
   "cell_type": "code",
   "source": [
    "# Open the data \n",
    "with open('FLiTsData100.pkl', 'rb') as f:\n",
    "    df = pickle.load(f)\n",
    "# df.head()"
   ],
   "id": "4caa3fd110f487a6",
   "outputs": [],
   "execution_count": 3
  },
  {
   "metadata": {
    "ExecuteTime": {
     "end_time": "2025-04-05T15:39:38.196126Z",
     "start_time": "2025-04-05T15:34:27.458626Z"
    }
   },
   "cell_type": "code",
   "source": [
    "model_names = np.array(df['Model Name'])\n",
    "species = ['atomic', 'CH4', 'CO', 'CO2', 'H2O', 'HCN', 'NH3', 'NO', 'O2', 'OH']\n",
    "min_wl = 4.9\n",
    "max_wl = 28.1\n",
    "window_size = .001\n",
    "\n",
    "arr = compress_to_numpy(model_names, species, df)\n",
    "windows, dominant = spectral_window(min_wl, max_wl, window_size, arr, 1e-5)"
   ],
   "id": "f1bad1646221c73f",
   "outputs": [],
   "execution_count": 11
  },
  {
   "metadata": {
    "ExecuteTime": {
     "end_time": "2025-04-05T15:47:03.654433Z",
     "start_time": "2025-04-05T15:46:57.776349Z"
    }
   },
   "cell_type": "code",
   "source": [
    "majority_values = mode(dominant, axis=0).mode\n",
    "colors = plt.colormaps[\"tab10\"].colors[:len(np.unique(majority_values))]\n",
    "name_colors = dict(zip(np.unique(majority_values), colors))\n",
    "new_species = species + ['Different']\n",
    "\n",
    "plt.figure(figsize=(10, 5))\n",
    "for i in range(len(windows)):\n",
    "    if new_species[majority_values[i]] in ['atomic', 'CH4', 'CO', 'CO2', 'HCN', 'NH3', 'NO', 'O2', 'OH']:\n",
    "        plt.bar(windows[i], 1, width=window_size, color=name_colors[majority_values[i]], label=new_species[majority_values[i]])\n",
    "\n",
    "handles, labels = plt.gca().get_legend_handles_labels()\n",
    "unique_labels = dict(zip(labels, handles))\n",
    "plt.legend(unique_labels.values(), unique_labels.keys())\n",
    "plt.xlabel(r'Wavelength ($\\mu$m)')\n",
    "plt.yticks([])\n",
    "\n",
    "plt.xlim(4.9, 6.5)\n",
    "# plt.savefig('Spectral_regions.pdf')\n",
    "plt.show()"
   ],
   "id": "94a86db4c48aa1b7",
   "outputs": [
    {
     "data": {
      "text/plain": [
       "<Figure size 1000x500 with 1 Axes>"
      ],
      "image/png": "[encoded data removed]"
     },
     "metadata": {},
     "output_type": "display_data"
    }
   ],
   "execution_count": 14
  }
 ],
 "metadata": {
  "kernelspec": {
   "display_name": "Python 3 (ipykernel)",
   "language": "python",
   "name": "python3"
  },
  "language_info": {
   "codemirror_mode": {
    "name": "ipython",
    "version": 2
   },
   "file_extension": ".py",
   "mimetype": "text/x-python",
   "name": "python",
   "nbconvert_exporter": "python",
   "pygments_lexer": "ipython2",
   "version": "2.7.6"
  }
 },
 "nbformat": 4,
 "nbformat_minor": 5
}
