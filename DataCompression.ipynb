{
 "cells": [
  {
   "metadata": {
    "ExecuteTime": {
     "end_time": "2025-04-01T08:47:39.914091Z",
     "start_time": "2025-04-01T08:47:39.892073Z"
    }
   },
   "cell_type": "code",
   "source": [
    "from IPython.display import display, HTML, clear_output\n",
    "display(HTML(\"<style>.container { width:95% !important; }</style>\"))"
   ],
   "id": "eca79db7d15aca6d",
   "outputs": [
    {
     "data": {
      "text/plain": [
       "<IPython.core.display.HTML object>"
      ],
      "text/html": [
       "<style>.container { width:95% !important; }</style>"
      ]
     },
     "metadata": {},
     "output_type": "display_data"
    }
   ],
   "execution_count": 1
  },
  {
   "cell_type": "code",
   "id": "initial_id",
   "metadata": {
    "collapsed": true,
    "ExecuteTime": {
     "end_time": "2025-04-01T08:47:49.715580Z",
     "start_time": "2025-04-01T08:47:39.928670Z"
    }
   },
   "source": [
    "import prodimopy.read as pread\n",
    "import pickle\n",
    "import numpy as np\n",
    "import pandas as pd\n",
    "import time\n",
    "import warnings\n",
    "from astropy.convolution import convolve_fft\n",
    "from astropy.convolution import Gaussian1DKernel\n",
    "import glob\n",
    "warnings.simplefilter(\"ignore\", DeprecationWarning)"
   ],
   "outputs": [],
   "execution_count": 2
  },
  {
   "metadata": {},
   "cell_type": "code",
   "source": [
    "wlrange = [4.9, 28.1]\n",
    "species = ['C2H2_H', 'CH4_H', 'CO', 'CO2_H', 'HCN_H', 'NH3_H', 'NO_H', 'OH', 'o-H2', 'o-H2O', 'p-H2', 'p-H2O']\n",
    "ions = ['Ar+', 'Ar++', 'Fe+', 'Ne+', 'Ne++', 'S']\n",
    "values = np.arange(-0.5, 0.51, 0.25)\n",
    "data = []\n",
    "start_time = time.time()\n",
    "i = 1\n",
    "for C in values:\n",
    "    for O in values:\n",
    "        start_time = time.time()\n",
    "        \n",
    "        model_data = []\n",
    "        \n",
    "        path = 'models/C_' + str(C) + '_O_' + str(O) + '_CO_*'\n",
    "        matching_file = glob.glob(path)\n",
    "        \n",
    "        CO = matching_file[0].split('CO_')[-1]\n",
    "        model_name = matching_file[0][7:]\n",
    "        model_data.append(model_name)\n",
    "        model_data.append(str(C))\n",
    "        model_data.append(str(O))\n",
    "        model_data.append(str(CO))\n",
    "\n",
    "        model = pread.read_prodimo(matching_file[0], filenameFLiTs='specFLiTs1.out')\n",
    "\n",
    "        wl, flux, flux_cont = model.FLiTsSpec.convolve(3000, contReturn=True)\n",
    "        flux -= flux_cont\n",
    "        model_data.append(wl)\n",
    "        model_data.append(flux)\n",
    "\n",
    "        for specie in species:\n",
    "            model_data.append(model.gen_specFromLineEstimates(ident=specie, wlrange=wlrange, noCont=True, unit='Jy')[1])\n",
    "        \n",
    "        total_flux_ion = None\n",
    "        for ion in ions:\n",
    "            wl, flux_ion = model.gen_specFromLineEstimates(ident=ion, wlrange=wlrange, noCont=True, unit='Jy')\n",
    "            if total_flux_ion is None:\n",
    "                total_flux_ion = flux_ion\n",
    "            else:\n",
    "                total_flux_ion += flux_ion\n",
    "        model_data.append(total_flux_ion)\n",
    "        model_data.append(wl)\n",
    "        \n",
    "        for flits in ['atomic', 'CH4', 'CO', 'CO2', 'H2O', 'HCN', 'NH3', 'NO', 'O2', 'OH']:\n",
    "            model_flits = pread.read_FLiTs(f'./FLiTs/{flits}/'+model_name, filename=f'specFLiTs1_{flits}.out')\n",
    "            wl=model_flits.wl\n",
    "            flux=model_flits.flux-model_flits.flux_cont\n",
    "            specR = 3000\n",
    "            \n",
    "            # Make a new wl grid\n",
    "            wl_log=np.logspace(np.log10(np.nanmin(wl)),np.log10(np.nanmax(wl)),num=np.size(wl)*1)\n",
    "            \n",
    "            # Find stddev of Gaussian kernel for smoothing\n",
    "            # taken from here https://github.com/spacetelescope/pysynphot/issues/78\n",
    "            R_grid=(wl_log[1:-1]+wl_log[0:-2])/(wl_log[1:-1]-wl_log[0:-2])/2\n",
    "            sigma=np.median(R_grid)/specR\n",
    "            if sigma<1:\n",
    "              sigma=1\n",
    "            \n",
    "            # Interpolate on logarithmic grid\n",
    "            f_log=np.interp(wl_log,wl,flux)\n",
    "            # f_cont_log=np.interp(wl_log,wl,flux_cont)\n",
    "            \n",
    "            # in the idl script this is interpreted as the FWHM,\n",
    "            # but the convolution routine wants stddev use relation\n",
    "            # FWHM=2*sqrt(2ln2)*stddev=2.355/stddev\n",
    "            # this should than be consistent with the result from the\n",
    "            # ProDiMo idl script\n",
    "            gauss=Gaussian1DKernel(stddev=sigma/2.355)\n",
    "            flux_conv=convolve_fft(f_log,gauss)\n",
    "            # flux_cont_conv=convolve_fft(f_cont_log,gauss)\n",
    "            \n",
    "            # Interpolate back on original wavelength grid\n",
    "            flux_sm=np.interp(wl,wl_log,flux_conv)\n",
    "            # flux_cont_sm=np.interp(wl,wl_log,flux_cont_conv)\n",
    "            \n",
    "            cut=2*int(sigma)\n",
    "            flux_smc=flux_sm[cut:(len(flux_sm)-cut)]\n",
    "            # flux_cont_smc=flux_cont_sm[cut:(len(flux_cont_sm)-cut)]\n",
    "            wlc=wl[cut:(len(wl)-cut)]\n",
    "            model_data.append(flux_smc)\n",
    "            model_data.append(wlc)\n",
    "        \n",
    "        data.append(model_data)\n",
    "        \n",
    "        end_time = time.time()\n",
    "        clear_output()\n",
    "        current_time = end_time - start_time\n",
    "        print(f'{i}/25; {int(current_time // 60)}:{int(current_time % 60)}')\n",
    "        i += 1\n"
   ],
   "id": "4eec44a9e380bc7a",
   "execution_count": 3,
   "outputs": [
    {
     "name": "stdout",
     "output_type": "stream",
     "text": [
      "25/25; 2:37\n"
     ]
    }
   ]
  },
  {
   "metadata": {
    "ExecuteTime": {
     "end_time": "2025-04-01T10:06:42.949679Z",
     "start_time": "2025-04-01T10:06:40.559456Z"
    }
   },
   "cell_type": "code",
   "source": [
    "df = pd.DataFrame(data,\n",
    "                  columns=['Model Name', 'C Value', 'O Value', 'CO Value', 'FLiTs Wavelength', 'FLiTs Flux',\n",
    "                           'ProDiMo C2H2_H',\n",
    "                           'ProDiMo CH4_H', 'ProDiMo CO', 'ProDiMo CO2_H', 'ProDiMo HCN_H', 'ProDiMo NH3_H',\n",
    "                           'ProDiMo NO_H', 'ProDiMo OH', 'ProDiMo o-H2', 'ProDiMo o-H2O', 'ProDiMo p-H2',\n",
    "                           'ProDiMo p-H2O', 'ProDiMo atomic', 'ProDiMo Wavelength', 'FLiTs atomic Flux',\n",
    "                           'FLiTs atomic Wavelength', 'FLiTs CH4 Flux', 'FLiTs CH4 Wavelength', 'FLiTs CO Flux',\n",
    "                           'FLiTs CO Wavelength', 'FLiTs CO2 Flux',\n",
    "                           'FLiTs CO2 Wavelength', 'FLiTs H2O Flux', 'FLiTs H2O Wavelength', 'FLiTs HCN Flux',\n",
    "                           'FLiTs HCN Wavelength', 'FLiTs NH3 Flux', 'FLiTs NH3 Wavelength', 'FLiTs NO Flux',\n",
    "                           'FLiTs NO Wavelength', 'FLiTs O2 Flux', 'FLiTs O2 Wavelength', 'FLiTs OH Flux',\n",
    "                           'FLiTs OH Wavelength'])\n",
    "\n",
    "with open('ModelData.pkl', 'wb') as f:\n",
    "    pickle.dump(df, f)\n"
   ],
   "id": "c7eace80acac589f",
   "outputs": [],
   "execution_count": 5
  }
 ],
 "metadata": {
  "kernelspec": {
   "display_name": "Python (.venv)",
   "language": "python",
   "name": ".venv"
  },
  "language_info": {
   "codemirror_mode": {
    "name": "ipython",
    "version": 2
   },
   "file_extension": ".py",
   "mimetype": "text/x-python",
   "name": "python",
   "nbconvert_exporter": "python",
   "pygments_lexer": "ipython2",
   "version": "2.7.6"
  }
 },
 "nbformat": 4,
 "nbformat_minor": 5
}
