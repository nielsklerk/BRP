{
 "cells": [
  {
   "metadata": {},
   "cell_type": "code",
   "outputs": [],
   "execution_count": null,
   "source": [
    "from IPython.display import display, HTML, clear_output\n",
    "display(HTML(\"<style>.container { width:95% !important; }</style>\"))"
   ],
   "id": "eca79db7d15aca6d"
  },
  {
   "cell_type": "code",
   "id": "initial_id",
   "metadata": {
    "collapsed": true
   },
   "source": [
    "import prodimopy.read as pread\n",
    "import pickle\n",
    "import numpy as np\n",
    "import pandas as pd\n",
    "import time\n",
    "import warnings\n",
    "warnings.simplefilter(\"ignore\", DeprecationWarning)"
   ],
   "outputs": [],
   "execution_count": null
  },
  {
   "metadata": {},
   "cell_type": "code",
   "source": [
    "import glob\n",
    "\n",
    "wlrange = [5, 28]\n",
    "species = ['C2H2_H', 'CH4_H', 'CO', 'CO2_H', 'HCN_H', 'NH3_H', 'NO_H', 'OH', 'S', 'o-H2', 'o-H2O', 'p-H2', 'p-H2O']\n",
    "ions = ['Ar+', 'Ar++', 'Fe+', 'Ne+', 'Ne++']\n",
    "values = np.arange(-0.5, 0.51, 0.25)\n",
    "data = []\n",
    "start_time = time.time()\n",
    "i = 1\n",
    "for C in values:\n",
    "    for O in values:\n",
    "        start_time = time.time()\n",
    "        \n",
    "        model_data = []\n",
    "        \n",
    "        path = 'models/C_' + str(C) + '_O_' + str(O) + '_CO_*'\n",
    "        matching_file = glob.glob(path)\n",
    "        \n",
    "        CO = matching_file[0].split('CO_')[-1]\n",
    "        \n",
    "        model_data.append(matching_file[0][7:])\n",
    "        model_data.append(str(C))\n",
    "        model_data.append(str(O))\n",
    "        model_data.append(str(CO))\n",
    "\n",
    "        model = pread.read_prodimo(matching_file[0], filenameFLiTs='specFLiTs1.out')\n",
    "\n",
    "        wl, flux, flux_cont = model.FLiTsSpec.convolve(3000, contReturn=True)\n",
    "        flux -= flux_cont\n",
    "        model_data.append(wl)\n",
    "        model_data.append(flux)\n",
    "\n",
    "        for specie in species:\n",
    "            model_data.append(model.gen_specFromLineEstimates(ident=specie, wlrange=wlrange, noCont=True, unit='Jy')[1])\n",
    "        \n",
    "        total_flux_ion = None\n",
    "        for ion in ions:\n",
    "            wl, flux_ion = model.gen_specFromLineEstimates(ident=ion, wlrange=wlrange, noCont=True, unit='Jy')\n",
    "            if total_flux_ion is None:\n",
    "                total_flux_ion = flux_ion\n",
    "            else:\n",
    "                total_flux_ion += flux_ion\n",
    "        model_data.append(total_flux_ion)\n",
    "        model_data.append(wl)\n",
    "        \n",
    "        data.append(model_data)\n",
    "        \n",
    "        end_time = time.time()\n",
    "        clear_output()\n",
    "        current_time = end_time - start_time\n",
    "        print(f'{i}/25; {int(current_time // 60)}:{int(current_time % 60)}')\n",
    "        i += 1\n"
   ],
   "id": "4eec44a9e380bc7a",
   "execution_count": 96,
   "outputs": [
    {
     "name": "stdout",
     "output_type": "stream",
     "text": [
      "25/25; 2.0:26.637526750564575\n"
     ]
    }
   ]
  },
  {
   "metadata": {
    "ExecuteTime": {
     "end_time": "2025-03-13T15:06:51.961756Z",
     "start_time": "2025-03-13T15:06:49.976842Z"
    }
   },
   "cell_type": "code",
   "source": [
    "df = pd.DataFrame(data,\n",
    "                  columns=['Model Name', 'C Value', 'O Value', 'CO Value', 'FLiTs Wavelength', 'FLiTs Flux', 'C2H2_H',\n",
    "                           'CH4_H', 'CO', 'CO2_H', 'HCN_H', 'NH3_H', 'NO_H', 'OH', 'S', 'o-H2', 'o-H2O', 'p-H2',\n",
    "                           'p-H2O', 'Ion', 'Prodimo Wavelength'])\n",
    "\n",
    "with open('ModelData.pkl', 'wb') as f:\n",
    "    pickle.dump(df, f)\n"
   ],
   "id": "c7eace80acac589f",
   "outputs": [],
   "execution_count": 97
  }
 ],
 "metadata": {
  "kernelspec": {
   "display_name": "Python (.venv)",
   "language": "python",
   "name": ".venv"
  },
  "language_info": {
   "codemirror_mode": {
    "name": "ipython",
    "version": 2
   },
   "file_extension": ".py",
   "mimetype": "text/x-python",
   "name": "python",
   "nbconvert_exporter": "python",
   "pygments_lexer": "ipython2",
   "version": "2.7.6"
  }
 },
 "nbformat": 4,
 "nbformat_minor": 5
}
