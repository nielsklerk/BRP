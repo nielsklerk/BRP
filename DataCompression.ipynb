{
 "cells": [
  {
   "metadata": {
    "ExecuteTime": {
     "end_time": "2025-03-21T09:07:19.249530Z",
     "start_time": "2025-03-21T09:07:19.219760Z"
    }
   },
   "cell_type": "code",
   "source": [
    "from IPython.display import display, HTML, clear_output\n",
    "display(HTML(\"<style>.container { width:95% !important; }</style>\"))"
   ],
   "id": "eca79db7d15aca6d",
   "outputs": [
    {
     "data": {
      "text/plain": [
       "<IPython.core.display.HTML object>"
      ],
      "text/html": [
       "<style>.container { width:95% !important; }</style>"
      ]
     },
     "metadata": {},
     "output_type": "display_data"
    }
   ],
   "execution_count": 1
  },
  {
   "cell_type": "code",
   "id": "initial_id",
   "metadata": {
    "collapsed": true,
    "ExecuteTime": {
     "end_time": "2025-03-21T09:07:26.688116Z",
     "start_time": "2025-03-21T09:07:22.150472Z"
    }
   },
   "source": [
    "import prodimopy.read as pread\n",
    "import pickle\n",
    "import numpy as np\n",
    "import pandas as pd\n",
    "import time\n",
    "import warnings\n",
    "warnings.simplefilter(\"ignore\", DeprecationWarning)"
   ],
   "outputs": [],
   "execution_count": 2
  },
  {
   "metadata": {
    "ExecuteTime": {
     "end_time": "2025-03-21T08:56:16.792527Z",
     "start_time": "2025-03-21T08:54:36.462501Z"
    }
   },
   "cell_type": "code",
   "source": [
    "import glob\n",
    "\n",
    "wlrange = [5, 28]\n",
    "species = ['C2H2_H', 'CH4_H', 'CO', 'CO2_H', 'HCN_H', 'NH3_H', 'NO_H', 'OH', 'o-H2', 'o-H2O', 'p-H2', 'p-H2O']\n",
    "ions = ['Ar+', 'Ar++', 'Fe+', 'Ne+', 'Ne++', 'S']\n",
    "values = np.arange(-0.5, 0.51, 0.25)\n",
    "data = []\n",
    "start_time = time.time()\n",
    "i = 1\n",
    "for C in values:\n",
    "    for O in values:\n",
    "        start_time = time.time()\n",
    "        \n",
    "        model_data = []\n",
    "        \n",
    "        path = 'models/C_' + str(C) + '_O_' + str(O) + '_CO_*'\n",
    "        matching_file = glob.glob(path)\n",
    "        \n",
    "        CO = matching_file[0].split('CO_')[-1]\n",
    "        model_name = matching_file[0][7:]\n",
    "        model_data.append(model_name)\n",
    "        model_data.append(str(C))\n",
    "        model_data.append(str(O))\n",
    "        model_data.append(str(CO))\n",
    "\n",
    "        model = pread.read_prodimo(matching_file[0], filenameFLiTs='specFLiTs1.out')\n",
    "\n",
    "        wl, flux, flux_cont = model.FLiTsSpec.convolve(3000, contReturn=True)\n",
    "        flux -= flux_cont\n",
    "        model_data.append(wl)\n",
    "        model_data.append(flux)\n",
    "\n",
    "        for specie in species:\n",
    "            model_data.append(model.gen_specFromLineEstimates(ident=specie, wlrange=wlrange, noCont=True, unit='Jy')[1])\n",
    "        \n",
    "        total_flux_ion = None\n",
    "        for ion in ions:\n",
    "            wl, flux_ion = model.gen_specFromLineEstimates(ident=ion, wlrange=wlrange, noCont=True, unit='Jy')\n",
    "            if total_flux_ion is None:\n",
    "                total_flux_ion = flux_ion\n",
    "            else:\n",
    "                total_flux_ion += flux_ion\n",
    "        model_data.append(total_flux_ion)\n",
    "        model_data.append(wl)\n",
    "        \n",
    "        for flits in ['atomic', 'CO', 'CO2', 'H2O', 'HCN', 'NH3', 'NO', 'O2', 'OH']:\n",
    "            model_flits = pread.read_FLiTs(f'./FLiTs/{flits}/'+model, filename=f'specFLiTs1_{flits}.out')\n",
    "            model_data.append(model_flits.flux-model_flits.flux_cont)\n",
    "            model_data.append(model_flits.wl)\n",
    "        \n",
    "        data.append(model_data)\n",
    "        \n",
    "        end_time = time.time()\n",
    "        clear_output()\n",
    "        current_time = end_time - start_time\n",
    "        print(f'{i}/25; {int(current_time // 60)}:{int(current_time % 60)}')\n",
    "        i += 1\n"
   ],
   "id": "4eec44a9e380bc7a",
   "outputs": [
    {
     "name": "stdout",
     "output_type": "stream",
     "text": [
      "READ: Reading File:  models\\C_-0.5_O_-0.5_CO_0.45\\ProDiMo.out  ...\n",
      "READ: Reading File:  models\\C_-0.5_O_-0.5_CO_0.45\\Species.out  ...\n",
      "READ: Reading File:  models\\C_-0.5_O_-0.5_CO_0.45\\FlineEstimates.out  ...\n",
      "READ: Reading File:  models\\C_-0.5_O_-0.5_CO_0.45\\Elements.out  ...\n",
      "READ: Reading File:  models\\C_-0.5_O_-0.5_CO_0.45\\dust_opac.out  ...\n",
      "READ: Reading File:  models\\C_-0.5_O_-0.5_CO_0.45\\dust_sigmaa.out  ...\n",
      "READ: Reading File:  models\\C_-0.5_O_-0.5_CO_0.45\\StarSpectrum.out  ...\n",
      "READ: Reading File:  models\\C_-0.5_O_-0.5_CO_0.45\\SED.out  ...\n",
      "READ: Reading File:  models\\C_-0.5_O_-0.5_CO_0.45\\SEDana.out  ...\n",
      "READ: Reading File:  models\\C_-0.5_O_-0.5_CO_0.45\\image.out  ...\n",
      "READ: Reading File:  models\\C_-0.5_O_-0.5_CO_0.45\\specFLiTs1.out  ...\n",
      "READ: Reading File:  models\\C_-0.5_O_-0.5_CO_0.45\\Parameter.out  ...\n",
      "INFO: Reading time:  27.14 s\n",
      " \n",
      "INFO: convolve FLiTs spectrum ... \n",
      "INFO: gen_specFromLineEstimates: build spectrum for 26457 lines ...\n",
      "INFO: gen_specFromLineEstimates: convolve spectrum ...\n",
      "INFO: time:  53.78 s\n",
      "INFO: gen_specFromLineEstimates: build spectrum for 9662 lines ...\n"
     ]
    },
    {
     "ename": "KeyboardInterrupt",
     "evalue": "",
     "output_type": "error",
     "traceback": [
      "\u001B[31m---------------------------------------------------------------------------\u001B[39m",
      "\u001B[31mKeyboardInterrupt\u001B[39m                         Traceback (most recent call last)",
      "\u001B[36mCell\u001B[39m\u001B[36m \u001B[39m\u001B[32mIn[3]\u001B[39m\u001B[32m, line 34\u001B[39m\n\u001B[32m     31\u001B[39m model_data.append(flux)\n\u001B[32m     33\u001B[39m \u001B[38;5;28;01mfor\u001B[39;00m specie \u001B[38;5;129;01min\u001B[39;00m species:\n\u001B[32m---> \u001B[39m\u001B[32m34\u001B[39m     model_data.append(\u001B[43mmodel\u001B[49m\u001B[43m.\u001B[49m\u001B[43mgen_specFromLineEstimates\u001B[49m\u001B[43m(\u001B[49m\u001B[43mident\u001B[49m\u001B[43m=\u001B[49m\u001B[43mspecie\u001B[49m\u001B[43m,\u001B[49m\u001B[43m \u001B[49m\u001B[43mwlrange\u001B[49m\u001B[43m=\u001B[49m\u001B[43mwlrange\u001B[49m\u001B[43m,\u001B[49m\u001B[43m \u001B[49m\u001B[43mnoCont\u001B[49m\u001B[43m=\u001B[49m\u001B[38;5;28;43;01mTrue\u001B[39;49;00m\u001B[43m,\u001B[49m\u001B[43m \u001B[49m\u001B[43munit\u001B[49m\u001B[43m=\u001B[49m\u001B[33;43m'\u001B[39;49m\u001B[33;43mJy\u001B[39;49m\u001B[33;43m'\u001B[39;49m\u001B[43m)\u001B[49m[\u001B[32m1\u001B[39m])\n\u001B[32m     36\u001B[39m total_flux_ion = \u001B[38;5;28;01mNone\u001B[39;00m\n\u001B[32m     37\u001B[39m \u001B[38;5;28;01mfor\u001B[39;00m ion \u001B[38;5;129;01min\u001B[39;00m ions:\n",
      "\u001B[36mFile \u001B[39m\u001B[32m~\\OneDrive\\Documenten\\BRP_project\\prodimopy\\prodimopy\\read.py:807\u001B[39m, in \u001B[36mData_ProDiMo.gen_specFromLineEstimates\u001B[39m\u001B[34m(self, wlrange, ident, specR, unit, contOnly, noCont)\u001B[39m\n\u001B[32m    802\u001B[39m wlcm=line.wl/\u001B[32m1.e4\u001B[39m\n\u001B[32m    803\u001B[39m \u001B[38;5;66;03m# Find the closes wavelength point in the new grid.\u001B[39;00m\n\u001B[32m    804\u001B[39m \n\u001B[32m    805\u001B[39m \u001B[38;5;66;03m# idx=np.argmin(np.abs(mwlsline-wlcm))\u001B[39;00m\n\u001B[32m    806\u001B[39m \u001B[38;5;66;03m# this does the same as above but seems to be 10 times faster\u001B[39;00m\n\u001B[32m--> \u001B[39m\u001B[32m807\u001B[39m idx=\u001B[43mnp\u001B[49m\u001B[43m.\u001B[49m\u001B[43margmax\u001B[49m\u001B[43m(\u001B[49m\u001B[43mmwlsline\u001B[49m\u001B[43m>\u001B[49m\u001B[43m(\u001B[49m\u001B[43mwlcm\u001B[49m\u001B[43m)\u001B[49m\u001B[43m)\u001B[49m\n\u001B[32m    808\u001B[39m \u001B[38;5;28;01mif\u001B[39;00m (mwlsline[idx]-wlcm)>(wlcm-mwlsline[idx-\u001B[32m1\u001B[39m]):\n\u001B[32m    809\u001B[39m   idx-=\u001B[32m1\u001B[39m\n",
      "\u001B[36mFile \u001B[39m\u001B[32m~\\AppData\\Roaming\\Python\\Python311\\site-packages\\numpy\\_core\\fromnumeric.py:1247\u001B[39m, in \u001B[36m_argmax_dispatcher\u001B[39m\u001B[34m(a, axis, out, keepdims)\u001B[39m\n\u001B[32m   1132\u001B[39m \u001B[38;5;250m    \u001B[39m\u001B[33;03m\"\"\"\u001B[39;00m\n\u001B[32m   1133\u001B[39m \u001B[33;03m    Returns the indices that would sort an array.\u001B[39;00m\n\u001B[32m   1134\u001B[39m \n\u001B[32m   (...)\u001B[39m\u001B[32m   1241\u001B[39m \n\u001B[32m   1242\u001B[39m \u001B[33;03m    \"\"\"\u001B[39;00m\n\u001B[32m   1243\u001B[39m     \u001B[38;5;28;01mreturn\u001B[39;00m _wrapfunc(\n\u001B[32m   1244\u001B[39m         a, \u001B[33m'\u001B[39m\u001B[33margsort\u001B[39m\u001B[33m'\u001B[39m, axis=axis, kind=kind, order=order, stable=stable\n\u001B[32m   1245\u001B[39m     )\n\u001B[32m-> \u001B[39m\u001B[32m1247\u001B[39m \u001B[38;5;28;01mdef\u001B[39;00m\u001B[38;5;250m \u001B[39m\u001B[34m_argmax_dispatcher\u001B[39m(a, axis=\u001B[38;5;28;01mNone\u001B[39;00m, out=\u001B[38;5;28;01mNone\u001B[39;00m, *, keepdims=np._NoValue):\n\u001B[32m   1248\u001B[39m     \u001B[38;5;28;01mreturn\u001B[39;00m (a, out)\n\u001B[32m   1251\u001B[39m \u001B[38;5;129m@array_function_dispatch\u001B[39m(_argmax_dispatcher)\n\u001B[32m   1252\u001B[39m \u001B[38;5;28;01mdef\u001B[39;00m\u001B[38;5;250m \u001B[39m\u001B[34margmax\u001B[39m(a, axis=\u001B[38;5;28;01mNone\u001B[39;00m, out=\u001B[38;5;28;01mNone\u001B[39;00m, *, keepdims=np._NoValue):\n",
      "\u001B[31mKeyboardInterrupt\u001B[39m: "
     ]
    }
   ],
   "execution_count": 3
  },
  {
   "metadata": {
    "ExecuteTime": {
     "end_time": "2025-03-13T15:06:51.961756Z",
     "start_time": "2025-03-13T15:06:49.976842Z"
    }
   },
   "cell_type": "code",
   "source": [
    "df = pd.DataFrame(data,\n",
    "                  columns=['Model Name', 'C Value', 'O Value', 'CO Value', 'FLiTs Wavelength', 'FLiTs Flux',\n",
    "                           'ProDiMo C2H2_H',\n",
    "                           'ProDiMo CH4_H', 'ProDiMo CO', 'ProDiMo CO2_H', 'ProDiMo HCN_H', 'ProDiMo NH3_H',\n",
    "                           'ProDiMo NO_H', 'ProDiMo OH', 'ProDiMo o-H2', 'ProDiMo o-H2O', 'ProDiMo p-H2',\n",
    "                           'ProDiMo p-H2O', 'ProDiMo atomic', 'ProDiMo Wavelength', 'FLiTs atomic Flux',\n",
    "                           'FLiTs atomic Wavelength', 'FLiTs CO Flux', 'FLiTs CO Wavelength', 'FLiTs CO2 Flux',\n",
    "                           'FLiTs CO2 Wavelength', 'FLiTs H2O Flux', 'FLiTs H2O Wavelength', 'FLiTs HCN Flux',\n",
    "                           'FLiTs HCN Wavelength', 'FLiTs NH3 Flux', 'FLiTs NH3 Wavelength', 'FLiTs NO Flux',\n",
    "                           'FLiTs NO Wavelength', 'FLiTs O2 Flux', 'FLiTs O2 Wavelength', 'FLiTs OH Flux',\n",
    "                           'FLiTs OH Wavelength'])\n",
    "\n",
    "with open('ModelData.pkl', 'wb') as f:\n",
    "    pickle.dump(df, f)\n"
   ],
   "id": "c7eace80acac589f",
   "outputs": [],
   "execution_count": 97
  }
 ],
 "metadata": {
  "kernelspec": {
   "display_name": "Python (.venv)",
   "language": "python",
   "name": ".venv"
  },
  "language_info": {
   "codemirror_mode": {
    "name": "ipython",
    "version": 2
   },
   "file_extension": ".py",
   "mimetype": "text/x-python",
   "name": "python",
   "nbconvert_exporter": "python",
   "pygments_lexer": "ipython2",
   "version": "2.7.6"
  }
 },
 "nbformat": 4,
 "nbformat_minor": 5
}
