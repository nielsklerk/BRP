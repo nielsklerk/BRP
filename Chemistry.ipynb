{
 "cells": [
  {
   "metadata": {},
   "cell_type": "code",
   "outputs": [],
   "execution_count": null,
   "source": [
    "import prodimopy.read as pread\n",
    "import prodimopy.plot as pplot\n",
    "# from matplotlib.backends.backend_pdf import PdfPages\n",
    "from tqdm import tqdm\n",
    "import math\n",
    "import numpy as np\n",
    "import pandas as pd\n",
    "import matplotlib as mpl\n",
    "import matplotlib.pyplot as plt\n",
    "from scipy.optimize import curve_fit\n",
    "from scipy.integrate import simpson\n",
    "from scipy.constants import h as planck_h\n",
    "from scipy.constants import k as boltzmann_k\n",
    "from scipy.constants import c as speed_of_light\n",
    "from scipy.constants import astronomical_unit as au\n",
    "from scipy.constants import parsec as pc\n",
    "import warnings\n",
    "warnings.simplefilter(\"ignore\", DeprecationWarning)"
   ],
   "id": "288b974be7fffb6a"
  },
  {
   "metadata": {},
   "cell_type": "code",
   "outputs": [],
   "execution_count": null,
   "source": "model = pread.read_prodimo('Fiducial_N')",
   "id": "9e53bc8b0f440d82"
  },
  {
   "metadata": {},
   "cell_type": "code",
   "outputs": [],
   "execution_count": null,
   "source": "chemist = pread.analyse_chemistry('NH3', model)",
   "id": "d508ac2fe890f15b"
  },
  {
   "metadata": {},
   "cell_type": "code",
   "outputs": [],
   "execution_count": null,
   "source": "chemist = pread.analyse_chemistry('NH3#', model)",
   "id": "d0ff5cf95096f193"
  },
  {
   "metadata": {},
   "cell_type": "code",
   "outputs": [],
   "execution_count": null,
   "source": "pread.reac_rates_ix_iz(model, chemist, locau=[0.1, 0.01])",
   "id": "2185b1fcee898bb5"
  },
  {
   "metadata": {},
   "cell_type": "code",
   "outputs": [],
   "execution_count": null,
   "source": [
    "pp=pplot.Plot(None)\n",
    "pp.plot_reaccont(model, chemist, 'f', )"
   ],
   "id": "cd22ab77586567bd"
  }
 ],
 "metadata": {},
 "nbformat": 4,
 "nbformat_minor": 5
}
